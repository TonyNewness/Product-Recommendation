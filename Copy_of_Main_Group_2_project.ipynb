{
  "nbformat": 4,
  "nbformat_minor": 0,
  "metadata": {
    "colab": {
      "provenance": [],
      "include_colab_link": true
    },
    "kernelspec": {
      "name": "python3",
      "display_name": "Python 3"
    },
    "language_info": {
      "name": "python"
    },
    "widgets": {
      "application/vnd.jupyter.widget-state+json": {
        "5d3c5673246b4041b460198e85b3c562": {
          "model_module": "@jupyter-widgets/controls",
          "model_name": "HBoxModel",
          "model_module_version": "1.5.0",
          "state": {
            "_dom_classes": [],
            "_model_module": "@jupyter-widgets/controls",
            "_model_module_version": "1.5.0",
            "_model_name": "HBoxModel",
            "_view_count": null,
            "_view_module": "@jupyter-widgets/controls",
            "_view_module_version": "1.5.0",
            "_view_name": "HBoxView",
            "box_style": "",
            "children": [
              "IPY_MODEL_0c992fcd590e4c9094928637658488df",
              "IPY_MODEL_ff7d66e391ab44f2aa673a27d4b9e84d",
              "IPY_MODEL_5b53b6b6e913415b9893797625892790"
            ],
            "layout": "IPY_MODEL_62c4911a75ea4c7b8d4fdcc9d21003c4"
          }
        },
        "0c992fcd590e4c9094928637658488df": {
          "model_module": "@jupyter-widgets/controls",
          "model_name": "HTMLModel",
          "model_module_version": "1.5.0",
          "state": {
            "_dom_classes": [],
            "_model_module": "@jupyter-widgets/controls",
            "_model_module_version": "1.5.0",
            "_model_name": "HTMLModel",
            "_view_count": null,
            "_view_module": "@jupyter-widgets/controls",
            "_view_module_version": "1.5.0",
            "_view_name": "HTMLView",
            "description": "",
            "description_tooltip": null,
            "layout": "IPY_MODEL_4165f15910a94346a5fd4aa4bf941735",
            "placeholder": "​",
            "style": "IPY_MODEL_7787b07da0d648159d3bc55cf1fc6fb3",
            "value": "100%"
          }
        },
        "ff7d66e391ab44f2aa673a27d4b9e84d": {
          "model_module": "@jupyter-widgets/controls",
          "model_name": "FloatProgressModel",
          "model_module_version": "1.5.0",
          "state": {
            "_dom_classes": [],
            "_model_module": "@jupyter-widgets/controls",
            "_model_module_version": "1.5.0",
            "_model_name": "FloatProgressModel",
            "_view_count": null,
            "_view_module": "@jupyter-widgets/controls",
            "_view_module_version": "1.5.0",
            "_view_name": "ProgressView",
            "bar_style": "success",
            "description": "",
            "description_tooltip": null,
            "layout": "IPY_MODEL_e84a8307766e466abd6e9fe9b972210d",
            "max": 20,
            "min": 0,
            "orientation": "horizontal",
            "style": "IPY_MODEL_2d2478cd89234daf896dd9019ad8c24a",
            "value": 20
          }
        },
        "5b53b6b6e913415b9893797625892790": {
          "model_module": "@jupyter-widgets/controls",
          "model_name": "HTMLModel",
          "model_module_version": "1.5.0",
          "state": {
            "_dom_classes": [],
            "_model_module": "@jupyter-widgets/controls",
            "_model_module_version": "1.5.0",
            "_model_name": "HTMLModel",
            "_view_count": null,
            "_view_module": "@jupyter-widgets/controls",
            "_view_module_version": "1.5.0",
            "_view_name": "HTMLView",
            "description": "",
            "description_tooltip": null,
            "layout": "IPY_MODEL_0bfac1534b0244a4ba89818987dc5a90",
            "placeholder": "​",
            "style": "IPY_MODEL_9c693bab878b470aa177531a066a4a3a",
            "value": " 20/20 [00:46&lt;00:00,  2.11s/it]"
          }
        },
        "62c4911a75ea4c7b8d4fdcc9d21003c4": {
          "model_module": "@jupyter-widgets/base",
          "model_name": "LayoutModel",
          "model_module_version": "1.2.0",
          "state": {
            "_model_module": "@jupyter-widgets/base",
            "_model_module_version": "1.2.0",
            "_model_name": "LayoutModel",
            "_view_count": null,
            "_view_module": "@jupyter-widgets/base",
            "_view_module_version": "1.2.0",
            "_view_name": "LayoutView",
            "align_content": null,
            "align_items": null,
            "align_self": null,
            "border": null,
            "bottom": null,
            "display": null,
            "flex": null,
            "flex_flow": null,
            "grid_area": null,
            "grid_auto_columns": null,
            "grid_auto_flow": null,
            "grid_auto_rows": null,
            "grid_column": null,
            "grid_gap": null,
            "grid_row": null,
            "grid_template_areas": null,
            "grid_template_columns": null,
            "grid_template_rows": null,
            "height": null,
            "justify_content": null,
            "justify_items": null,
            "left": null,
            "margin": null,
            "max_height": null,
            "max_width": null,
            "min_height": null,
            "min_width": null,
            "object_fit": null,
            "object_position": null,
            "order": null,
            "overflow": null,
            "overflow_x": null,
            "overflow_y": null,
            "padding": null,
            "right": null,
            "top": null,
            "visibility": null,
            "width": null
          }
        },
        "4165f15910a94346a5fd4aa4bf941735": {
          "model_module": "@jupyter-widgets/base",
          "model_name": "LayoutModel",
          "model_module_version": "1.2.0",
          "state": {
            "_model_module": "@jupyter-widgets/base",
            "_model_module_version": "1.2.0",
            "_model_name": "LayoutModel",
            "_view_count": null,
            "_view_module": "@jupyter-widgets/base",
            "_view_module_version": "1.2.0",
            "_view_name": "LayoutView",
            "align_content": null,
            "align_items": null,
            "align_self": null,
            "border": null,
            "bottom": null,
            "display": null,
            "flex": null,
            "flex_flow": null,
            "grid_area": null,
            "grid_auto_columns": null,
            "grid_auto_flow": null,
            "grid_auto_rows": null,
            "grid_column": null,
            "grid_gap": null,
            "grid_row": null,
            "grid_template_areas": null,
            "grid_template_columns": null,
            "grid_template_rows": null,
            "height": null,
            "justify_content": null,
            "justify_items": null,
            "left": null,
            "margin": null,
            "max_height": null,
            "max_width": null,
            "min_height": null,
            "min_width": null,
            "object_fit": null,
            "object_position": null,
            "order": null,
            "overflow": null,
            "overflow_x": null,
            "overflow_y": null,
            "padding": null,
            "right": null,
            "top": null,
            "visibility": null,
            "width": null
          }
        },
        "7787b07da0d648159d3bc55cf1fc6fb3": {
          "model_module": "@jupyter-widgets/controls",
          "model_name": "DescriptionStyleModel",
          "model_module_version": "1.5.0",
          "state": {
            "_model_module": "@jupyter-widgets/controls",
            "_model_module_version": "1.5.0",
            "_model_name": "DescriptionStyleModel",
            "_view_count": null,
            "_view_module": "@jupyter-widgets/base",
            "_view_module_version": "1.2.0",
            "_view_name": "StyleView",
            "description_width": ""
          }
        },
        "e84a8307766e466abd6e9fe9b972210d": {
          "model_module": "@jupyter-widgets/base",
          "model_name": "LayoutModel",
          "model_module_version": "1.2.0",
          "state": {
            "_model_module": "@jupyter-widgets/base",
            "_model_module_version": "1.2.0",
            "_model_name": "LayoutModel",
            "_view_count": null,
            "_view_module": "@jupyter-widgets/base",
            "_view_module_version": "1.2.0",
            "_view_name": "LayoutView",
            "align_content": null,
            "align_items": null,
            "align_self": null,
            "border": null,
            "bottom": null,
            "display": null,
            "flex": null,
            "flex_flow": null,
            "grid_area": null,
            "grid_auto_columns": null,
            "grid_auto_flow": null,
            "grid_auto_rows": null,
            "grid_column": null,
            "grid_gap": null,
            "grid_row": null,
            "grid_template_areas": null,
            "grid_template_columns": null,
            "grid_template_rows": null,
            "height": null,
            "justify_content": null,
            "justify_items": null,
            "left": null,
            "margin": null,
            "max_height": null,
            "max_width": null,
            "min_height": null,
            "min_width": null,
            "object_fit": null,
            "object_position": null,
            "order": null,
            "overflow": null,
            "overflow_x": null,
            "overflow_y": null,
            "padding": null,
            "right": null,
            "top": null,
            "visibility": null,
            "width": null
          }
        },
        "2d2478cd89234daf896dd9019ad8c24a": {
          "model_module": "@jupyter-widgets/controls",
          "model_name": "ProgressStyleModel",
          "model_module_version": "1.5.0",
          "state": {
            "_model_module": "@jupyter-widgets/controls",
            "_model_module_version": "1.5.0",
            "_model_name": "ProgressStyleModel",
            "_view_count": null,
            "_view_module": "@jupyter-widgets/base",
            "_view_module_version": "1.2.0",
            "_view_name": "StyleView",
            "bar_color": null,
            "description_width": ""
          }
        },
        "0bfac1534b0244a4ba89818987dc5a90": {
          "model_module": "@jupyter-widgets/base",
          "model_name": "LayoutModel",
          "model_module_version": "1.2.0",
          "state": {
            "_model_module": "@jupyter-widgets/base",
            "_model_module_version": "1.2.0",
            "_model_name": "LayoutModel",
            "_view_count": null,
            "_view_module": "@jupyter-widgets/base",
            "_view_module_version": "1.2.0",
            "_view_name": "LayoutView",
            "align_content": null,
            "align_items": null,
            "align_self": null,
            "border": null,
            "bottom": null,
            "display": null,
            "flex": null,
            "flex_flow": null,
            "grid_area": null,
            "grid_auto_columns": null,
            "grid_auto_flow": null,
            "grid_auto_rows": null,
            "grid_column": null,
            "grid_gap": null,
            "grid_row": null,
            "grid_template_areas": null,
            "grid_template_columns": null,
            "grid_template_rows": null,
            "height": null,
            "justify_content": null,
            "justify_items": null,
            "left": null,
            "margin": null,
            "max_height": null,
            "max_width": null,
            "min_height": null,
            "min_width": null,
            "object_fit": null,
            "object_position": null,
            "order": null,
            "overflow": null,
            "overflow_x": null,
            "overflow_y": null,
            "padding": null,
            "right": null,
            "top": null,
            "visibility": null,
            "width": null
          }
        },
        "9c693bab878b470aa177531a066a4a3a": {
          "model_module": "@jupyter-widgets/controls",
          "model_name": "DescriptionStyleModel",
          "model_module_version": "1.5.0",
          "state": {
            "_model_module": "@jupyter-widgets/controls",
            "_model_module_version": "1.5.0",
            "_model_name": "DescriptionStyleModel",
            "_view_count": null,
            "_view_module": "@jupyter-widgets/base",
            "_view_module_version": "1.2.0",
            "_view_name": "StyleView",
            "description_width": ""
          }
        }
      }
    }
  },
  "cells": [
    {
      "cell_type": "markdown",
      "metadata": {
        "id": "view-in-github",
        "colab_type": "text"
      },
      "source": [
        "<a href=\"https://colab.research.google.com/github/TonyNewness/Product-Recommendation/blob/main/Copy_of_Main_Group_2_project.ipynb\" target=\"_parent\"><img src=\"https://colab.research.google.com/assets/colab-badge.svg\" alt=\"Open In Colab\"/></a>"
      ]
    },
    {
      "cell_type": "code",
      "source": [
        "!pip install implicit"
      ],
      "metadata": {
        "id": "kWB_f1kzml0K",
        "colab": {
          "base_uri": "https://localhost:8080/"
        },
        "outputId": "67bfb332-c08a-44b0-9b98-9baf2b440aa6"
      },
      "execution_count": null,
      "outputs": [
        {
          "output_type": "stream",
          "name": "stdout",
          "text": [
            "Requirement already satisfied: implicit in /usr/local/lib/python3.10/dist-packages (0.7.2)\n",
            "Requirement already satisfied: numpy>=1.17.0 in /usr/local/lib/python3.10/dist-packages (from implicit) (1.25.2)\n",
            "Requirement already satisfied: scipy>=0.16 in /usr/local/lib/python3.10/dist-packages (from implicit) (1.11.4)\n",
            "Requirement already satisfied: tqdm>=4.27 in /usr/local/lib/python3.10/dist-packages (from implicit) (4.66.4)\n",
            "Requirement already satisfied: threadpoolctl in /usr/local/lib/python3.10/dist-packages (from implicit) (3.5.0)\n"
          ]
        }
      ]
    },
    {
      "cell_type": "code",
      "execution_count": null,
      "metadata": {
        "id": "JPRCgZ2afeMJ"
      },
      "outputs": [],
      "source": [
        "import pandas as pd\n",
        "import numpy as np\n",
        "import scipy.sparse as sp\n",
        "from implicit.als import AlternatingLeastSquares\n",
        "from google.colab import files\n",
        "from scipy.sparse import coo_matrix, csr_matrix\n",
        "\n",
        "# from google.colab import drive\n",
        "# drive.mount ('/content/drive')"
      ]
    },
    {
      "cell_type": "code",
      "source": [
        "data= pd.read_csv('/content/my_dataframe.csv')"
      ],
      "metadata": {
        "id": "j8u6kkdyiKJb"
      },
      "execution_count": null,
      "outputs": []
    },
    {
      "cell_type": "code",
      "source": [
        "data.head()"
      ],
      "metadata": {
        "colab": {
          "base_uri": "https://localhost:8080/",
          "height": 327
        },
        "id": "uRr51MCOhHSF",
        "outputId": "fb550f76-f230-4f5c-d5f3-75f6860090fc"
      },
      "execution_count": null,
      "outputs": [
        {
          "output_type": "execute_result",
          "data": {
            "text/plain": [
              "   Customer ID     Purchase Date  Product Price  Quantity  \\\n",
              "0        44605    3/5/2023 21:30            177         0   \n",
              "1        44605  16/05/2021 13:57            174         2   \n",
              "2        44605  13/07/2020 06:16            413         0   \n",
              "3        44605  17/01/2023 13:14            396         3   \n",
              "4        44605    1/5/2021 11:29            259         3   \n",
              "\n",
              "   Total Purchase Amount Payment Method Customer Name  Age  Gender  Churn  \\\n",
              "0                   2427         PayPal   John Rivera   31  Female      0   \n",
              "1                   2448         PayPal   John Rivera   31  Female      0   \n",
              "2                   2345    Credit Card   John Rivera   31  Female      0   \n",
              "3                    937           Cash   John Rivera   31  Female      0   \n",
              "4                   2598         PayPal   John Rivera   31  Female      0   \n",
              "\n",
              "  Item Purchased  \n",
              "0         Blouse  \n",
              "1        Sweater  \n",
              "2          Jeans  \n",
              "3        Sandals  \n",
              "4         Blouse  "
            ],
            "text/html": [
              "\n",
              "  <div id=\"df-f0c0db4e-aa0a-496f-ae38-3bbe4b763c44\" class=\"colab-df-container\">\n",
              "    <div>\n",
              "<style scoped>\n",
              "    .dataframe tbody tr th:only-of-type {\n",
              "        vertical-align: middle;\n",
              "    }\n",
              "\n",
              "    .dataframe tbody tr th {\n",
              "        vertical-align: top;\n",
              "    }\n",
              "\n",
              "    .dataframe thead th {\n",
              "        text-align: right;\n",
              "    }\n",
              "</style>\n",
              "<table border=\"1\" class=\"dataframe\">\n",
              "  <thead>\n",
              "    <tr style=\"text-align: right;\">\n",
              "      <th></th>\n",
              "      <th>Customer ID</th>\n",
              "      <th>Purchase Date</th>\n",
              "      <th>Product Price</th>\n",
              "      <th>Quantity</th>\n",
              "      <th>Total Purchase Amount</th>\n",
              "      <th>Payment Method</th>\n",
              "      <th>Customer Name</th>\n",
              "      <th>Age</th>\n",
              "      <th>Gender</th>\n",
              "      <th>Churn</th>\n",
              "      <th>Item Purchased</th>\n",
              "    </tr>\n",
              "  </thead>\n",
              "  <tbody>\n",
              "    <tr>\n",
              "      <th>0</th>\n",
              "      <td>44605</td>\n",
              "      <td>3/5/2023 21:30</td>\n",
              "      <td>177</td>\n",
              "      <td>0</td>\n",
              "      <td>2427</td>\n",
              "      <td>PayPal</td>\n",
              "      <td>John Rivera</td>\n",
              "      <td>31</td>\n",
              "      <td>Female</td>\n",
              "      <td>0</td>\n",
              "      <td>Blouse</td>\n",
              "    </tr>\n",
              "    <tr>\n",
              "      <th>1</th>\n",
              "      <td>44605</td>\n",
              "      <td>16/05/2021 13:57</td>\n",
              "      <td>174</td>\n",
              "      <td>2</td>\n",
              "      <td>2448</td>\n",
              "      <td>PayPal</td>\n",
              "      <td>John Rivera</td>\n",
              "      <td>31</td>\n",
              "      <td>Female</td>\n",
              "      <td>0</td>\n",
              "      <td>Sweater</td>\n",
              "    </tr>\n",
              "    <tr>\n",
              "      <th>2</th>\n",
              "      <td>44605</td>\n",
              "      <td>13/07/2020 06:16</td>\n",
              "      <td>413</td>\n",
              "      <td>0</td>\n",
              "      <td>2345</td>\n",
              "      <td>Credit Card</td>\n",
              "      <td>John Rivera</td>\n",
              "      <td>31</td>\n",
              "      <td>Female</td>\n",
              "      <td>0</td>\n",
              "      <td>Jeans</td>\n",
              "    </tr>\n",
              "    <tr>\n",
              "      <th>3</th>\n",
              "      <td>44605</td>\n",
              "      <td>17/01/2023 13:14</td>\n",
              "      <td>396</td>\n",
              "      <td>3</td>\n",
              "      <td>937</td>\n",
              "      <td>Cash</td>\n",
              "      <td>John Rivera</td>\n",
              "      <td>31</td>\n",
              "      <td>Female</td>\n",
              "      <td>0</td>\n",
              "      <td>Sandals</td>\n",
              "    </tr>\n",
              "    <tr>\n",
              "      <th>4</th>\n",
              "      <td>44605</td>\n",
              "      <td>1/5/2021 11:29</td>\n",
              "      <td>259</td>\n",
              "      <td>3</td>\n",
              "      <td>2598</td>\n",
              "      <td>PayPal</td>\n",
              "      <td>John Rivera</td>\n",
              "      <td>31</td>\n",
              "      <td>Female</td>\n",
              "      <td>0</td>\n",
              "      <td>Blouse</td>\n",
              "    </tr>\n",
              "  </tbody>\n",
              "</table>\n",
              "</div>\n",
              "    <div class=\"colab-df-buttons\">\n",
              "\n",
              "  <div class=\"colab-df-container\">\n",
              "    <button class=\"colab-df-convert\" onclick=\"convertToInteractive('df-f0c0db4e-aa0a-496f-ae38-3bbe4b763c44')\"\n",
              "            title=\"Convert this dataframe to an interactive table.\"\n",
              "            style=\"display:none;\">\n",
              "\n",
              "  <svg xmlns=\"http://www.w3.org/2000/svg\" height=\"24px\" viewBox=\"0 -960 960 960\">\n",
              "    <path d=\"M120-120v-720h720v720H120Zm60-500h600v-160H180v160Zm220 220h160v-160H400v160Zm0 220h160v-160H400v160ZM180-400h160v-160H180v160Zm440 0h160v-160H620v160ZM180-180h160v-160H180v160Zm440 0h160v-160H620v160Z\"/>\n",
              "  </svg>\n",
              "    </button>\n",
              "\n",
              "  <style>\n",
              "    .colab-df-container {\n",
              "      display:flex;\n",
              "      gap: 12px;\n",
              "    }\n",
              "\n",
              "    .colab-df-convert {\n",
              "      background-color: #E8F0FE;\n",
              "      border: none;\n",
              "      border-radius: 50%;\n",
              "      cursor: pointer;\n",
              "      display: none;\n",
              "      fill: #1967D2;\n",
              "      height: 32px;\n",
              "      padding: 0 0 0 0;\n",
              "      width: 32px;\n",
              "    }\n",
              "\n",
              "    .colab-df-convert:hover {\n",
              "      background-color: #E2EBFA;\n",
              "      box-shadow: 0px 1px 2px rgba(60, 64, 67, 0.3), 0px 1px 3px 1px rgba(60, 64, 67, 0.15);\n",
              "      fill: #174EA6;\n",
              "    }\n",
              "\n",
              "    .colab-df-buttons div {\n",
              "      margin-bottom: 4px;\n",
              "    }\n",
              "\n",
              "    [theme=dark] .colab-df-convert {\n",
              "      background-color: #3B4455;\n",
              "      fill: #D2E3FC;\n",
              "    }\n",
              "\n",
              "    [theme=dark] .colab-df-convert:hover {\n",
              "      background-color: #434B5C;\n",
              "      box-shadow: 0px 1px 3px 1px rgba(0, 0, 0, 0.15);\n",
              "      filter: drop-shadow(0px 1px 2px rgba(0, 0, 0, 0.3));\n",
              "      fill: #FFFFFF;\n",
              "    }\n",
              "  </style>\n",
              "\n",
              "    <script>\n",
              "      const buttonEl =\n",
              "        document.querySelector('#df-f0c0db4e-aa0a-496f-ae38-3bbe4b763c44 button.colab-df-convert');\n",
              "      buttonEl.style.display =\n",
              "        google.colab.kernel.accessAllowed ? 'block' : 'none';\n",
              "\n",
              "      async function convertToInteractive(key) {\n",
              "        const element = document.querySelector('#df-f0c0db4e-aa0a-496f-ae38-3bbe4b763c44');\n",
              "        const dataTable =\n",
              "          await google.colab.kernel.invokeFunction('convertToInteractive',\n",
              "                                                    [key], {});\n",
              "        if (!dataTable) return;\n",
              "\n",
              "        const docLinkHtml = 'Like what you see? Visit the ' +\n",
              "          '<a target=\"_blank\" href=https://colab.research.google.com/notebooks/data_table.ipynb>data table notebook</a>'\n",
              "          + ' to learn more about interactive tables.';\n",
              "        element.innerHTML = '';\n",
              "        dataTable['output_type'] = 'display_data';\n",
              "        await google.colab.output.renderOutput(dataTable, element);\n",
              "        const docLink = document.createElement('div');\n",
              "        docLink.innerHTML = docLinkHtml;\n",
              "        element.appendChild(docLink);\n",
              "      }\n",
              "    </script>\n",
              "  </div>\n",
              "\n",
              "\n",
              "<div id=\"df-1b08dd55-00df-4398-98b1-e980c3875ac9\">\n",
              "  <button class=\"colab-df-quickchart\" onclick=\"quickchart('df-1b08dd55-00df-4398-98b1-e980c3875ac9')\"\n",
              "            title=\"Suggest charts\"\n",
              "            style=\"display:none;\">\n",
              "\n",
              "<svg xmlns=\"http://www.w3.org/2000/svg\" height=\"24px\"viewBox=\"0 0 24 24\"\n",
              "     width=\"24px\">\n",
              "    <g>\n",
              "        <path d=\"M19 3H5c-1.1 0-2 .9-2 2v14c0 1.1.9 2 2 2h14c1.1 0 2-.9 2-2V5c0-1.1-.9-2-2-2zM9 17H7v-7h2v7zm4 0h-2V7h2v10zm4 0h-2v-4h2v4z\"/>\n",
              "    </g>\n",
              "</svg>\n",
              "  </button>\n",
              "\n",
              "<style>\n",
              "  .colab-df-quickchart {\n",
              "      --bg-color: #E8F0FE;\n",
              "      --fill-color: #1967D2;\n",
              "      --hover-bg-color: #E2EBFA;\n",
              "      --hover-fill-color: #174EA6;\n",
              "      --disabled-fill-color: #AAA;\n",
              "      --disabled-bg-color: #DDD;\n",
              "  }\n",
              "\n",
              "  [theme=dark] .colab-df-quickchart {\n",
              "      --bg-color: #3B4455;\n",
              "      --fill-color: #D2E3FC;\n",
              "      --hover-bg-color: #434B5C;\n",
              "      --hover-fill-color: #FFFFFF;\n",
              "      --disabled-bg-color: #3B4455;\n",
              "      --disabled-fill-color: #666;\n",
              "  }\n",
              "\n",
              "  .colab-df-quickchart {\n",
              "    background-color: var(--bg-color);\n",
              "    border: none;\n",
              "    border-radius: 50%;\n",
              "    cursor: pointer;\n",
              "    display: none;\n",
              "    fill: var(--fill-color);\n",
              "    height: 32px;\n",
              "    padding: 0;\n",
              "    width: 32px;\n",
              "  }\n",
              "\n",
              "  .colab-df-quickchart:hover {\n",
              "    background-color: var(--hover-bg-color);\n",
              "    box-shadow: 0 1px 2px rgba(60, 64, 67, 0.3), 0 1px 3px 1px rgba(60, 64, 67, 0.15);\n",
              "    fill: var(--button-hover-fill-color);\n",
              "  }\n",
              "\n",
              "  .colab-df-quickchart-complete:disabled,\n",
              "  .colab-df-quickchart-complete:disabled:hover {\n",
              "    background-color: var(--disabled-bg-color);\n",
              "    fill: var(--disabled-fill-color);\n",
              "    box-shadow: none;\n",
              "  }\n",
              "\n",
              "  .colab-df-spinner {\n",
              "    border: 2px solid var(--fill-color);\n",
              "    border-color: transparent;\n",
              "    border-bottom-color: var(--fill-color);\n",
              "    animation:\n",
              "      spin 1s steps(1) infinite;\n",
              "  }\n",
              "\n",
              "  @keyframes spin {\n",
              "    0% {\n",
              "      border-color: transparent;\n",
              "      border-bottom-color: var(--fill-color);\n",
              "      border-left-color: var(--fill-color);\n",
              "    }\n",
              "    20% {\n",
              "      border-color: transparent;\n",
              "      border-left-color: var(--fill-color);\n",
              "      border-top-color: var(--fill-color);\n",
              "    }\n",
              "    30% {\n",
              "      border-color: transparent;\n",
              "      border-left-color: var(--fill-color);\n",
              "      border-top-color: var(--fill-color);\n",
              "      border-right-color: var(--fill-color);\n",
              "    }\n",
              "    40% {\n",
              "      border-color: transparent;\n",
              "      border-right-color: var(--fill-color);\n",
              "      border-top-color: var(--fill-color);\n",
              "    }\n",
              "    60% {\n",
              "      border-color: transparent;\n",
              "      border-right-color: var(--fill-color);\n",
              "    }\n",
              "    80% {\n",
              "      border-color: transparent;\n",
              "      border-right-color: var(--fill-color);\n",
              "      border-bottom-color: var(--fill-color);\n",
              "    }\n",
              "    90% {\n",
              "      border-color: transparent;\n",
              "      border-bottom-color: var(--fill-color);\n",
              "    }\n",
              "  }\n",
              "</style>\n",
              "\n",
              "  <script>\n",
              "    async function quickchart(key) {\n",
              "      const quickchartButtonEl =\n",
              "        document.querySelector('#' + key + ' button');\n",
              "      quickchartButtonEl.disabled = true;  // To prevent multiple clicks.\n",
              "      quickchartButtonEl.classList.add('colab-df-spinner');\n",
              "      try {\n",
              "        const charts = await google.colab.kernel.invokeFunction(\n",
              "            'suggestCharts', [key], {});\n",
              "      } catch (error) {\n",
              "        console.error('Error during call to suggestCharts:', error);\n",
              "      }\n",
              "      quickchartButtonEl.classList.remove('colab-df-spinner');\n",
              "      quickchartButtonEl.classList.add('colab-df-quickchart-complete');\n",
              "    }\n",
              "    (() => {\n",
              "      let quickchartButtonEl =\n",
              "        document.querySelector('#df-1b08dd55-00df-4398-98b1-e980c3875ac9 button');\n",
              "      quickchartButtonEl.style.display =\n",
              "        google.colab.kernel.accessAllowed ? 'block' : 'none';\n",
              "    })();\n",
              "  </script>\n",
              "</div>\n",
              "    </div>\n",
              "  </div>\n"
            ],
            "application/vnd.google.colaboratory.intrinsic+json": {
              "type": "dataframe",
              "variable_name": "data"
            }
          },
          "metadata": {},
          "execution_count": 42
        }
      ]
    },
    {
      "cell_type": "code",
      "source": [
        "data.info()"
      ],
      "metadata": {
        "colab": {
          "base_uri": "https://localhost:8080/"
        },
        "id": "F1JDXbxshWoH",
        "outputId": "471a8ee9-e026-46e7-d549-0a4b22862a80"
      },
      "execution_count": null,
      "outputs": [
        {
          "output_type": "stream",
          "name": "stdout",
          "text": [
            "<class 'pandas.core.frame.DataFrame'>\n",
            "RangeIndex: 500000 entries, 0 to 499999\n",
            "Data columns (total 11 columns):\n",
            " #   Column                 Non-Null Count   Dtype \n",
            "---  ------                 --------------   ----- \n",
            " 0   Customer ID            500000 non-null  int64 \n",
            " 1   Purchase Date          500000 non-null  object\n",
            " 2   Product Price          500000 non-null  int64 \n",
            " 3   Quantity               500000 non-null  int64 \n",
            " 4   Total Purchase Amount  500000 non-null  int64 \n",
            " 5   Payment Method         500000 non-null  object\n",
            " 6   Customer Name          500000 non-null  object\n",
            " 7   Age                    500000 non-null  int64 \n",
            " 8   Gender                 500000 non-null  object\n",
            " 9   Churn                  500000 non-null  int64 \n",
            " 10  Item Purchased         500000 non-null  object\n",
            "dtypes: int64(6), object(5)\n",
            "memory usage: 42.0+ MB\n"
          ]
        }
      ]
    },
    {
      "cell_type": "code",
      "source": [
        "data.drop(columns=['Churn','Customer Name'],axis=1, inplace=True)\n",
        "data"
      ],
      "metadata": {
        "colab": {
          "base_uri": "https://localhost:8080/",
          "height": 614
        },
        "id": "zXY-hhmi6xH7",
        "outputId": "649e2cef-25e0-42e1-c65e-5671f0d87536"
      },
      "execution_count": null,
      "outputs": [
        {
          "output_type": "execute_result",
          "data": {
            "text/plain": [
              "        Customer ID     Purchase Date  Product Price  Quantity  \\\n",
              "0             44605    3/5/2023 21:30            177         0   \n",
              "1             44605  16/05/2021 13:57            174         2   \n",
              "2             44605  13/07/2020 06:16            413         0   \n",
              "3             44605  17/01/2023 13:14            396         3   \n",
              "4             44605    1/5/2021 11:29            259         3   \n",
              "...             ...               ...            ...       ...   \n",
              "499995        33308   8/10/2023 13:39            279         1   \n",
              "499996        48835   11/23/2021 1:30             27         0   \n",
              "499997        21019    7/2/2020 14:04             17         5   \n",
              "499998        49234   12/30/2020 2:02            398         2   \n",
              "499999        16971   3/13/2021 16:28            425         3   \n",
              "\n",
              "        Total Purchase Amount Payment Method  Age  Gender Item Purchased  \n",
              "0                        2427         PayPal   31  Female         Blouse  \n",
              "1                        2448         PayPal   31  Female        Sweater  \n",
              "2                        2345    Credit Card   31  Female          Jeans  \n",
              "3                         937           Cash   31  Female        Sandals  \n",
              "4                        2598         PayPal   31  Female         Blouse  \n",
              "...                       ...            ...  ...     ...            ...  \n",
              "499995                   2187         PayPal   55    Male       Sneakers  \n",
              "499996                   3615    Credit Card   42  Female          Dress  \n",
              "499997                   2466           Cash   41    Male           Belt  \n",
              "499998                   3668         Crypto   34  Female          Boots  \n",
              "499999                   2370           Cash   36  Female          Scarf  \n",
              "\n",
              "[500000 rows x 9 columns]"
            ],
            "text/html": [
              "\n",
              "  <div id=\"df-f67a67aa-b9f1-4b48-a386-7662b3f87570\" class=\"colab-df-container\">\n",
              "    <div>\n",
              "<style scoped>\n",
              "    .dataframe tbody tr th:only-of-type {\n",
              "        vertical-align: middle;\n",
              "    }\n",
              "\n",
              "    .dataframe tbody tr th {\n",
              "        vertical-align: top;\n",
              "    }\n",
              "\n",
              "    .dataframe thead th {\n",
              "        text-align: right;\n",
              "    }\n",
              "</style>\n",
              "<table border=\"1\" class=\"dataframe\">\n",
              "  <thead>\n",
              "    <tr style=\"text-align: right;\">\n",
              "      <th></th>\n",
              "      <th>Customer ID</th>\n",
              "      <th>Purchase Date</th>\n",
              "      <th>Product Price</th>\n",
              "      <th>Quantity</th>\n",
              "      <th>Total Purchase Amount</th>\n",
              "      <th>Payment Method</th>\n",
              "      <th>Age</th>\n",
              "      <th>Gender</th>\n",
              "      <th>Item Purchased</th>\n",
              "    </tr>\n",
              "  </thead>\n",
              "  <tbody>\n",
              "    <tr>\n",
              "      <th>0</th>\n",
              "      <td>44605</td>\n",
              "      <td>3/5/2023 21:30</td>\n",
              "      <td>177</td>\n",
              "      <td>0</td>\n",
              "      <td>2427</td>\n",
              "      <td>PayPal</td>\n",
              "      <td>31</td>\n",
              "      <td>Female</td>\n",
              "      <td>Blouse</td>\n",
              "    </tr>\n",
              "    <tr>\n",
              "      <th>1</th>\n",
              "      <td>44605</td>\n",
              "      <td>16/05/2021 13:57</td>\n",
              "      <td>174</td>\n",
              "      <td>2</td>\n",
              "      <td>2448</td>\n",
              "      <td>PayPal</td>\n",
              "      <td>31</td>\n",
              "      <td>Female</td>\n",
              "      <td>Sweater</td>\n",
              "    </tr>\n",
              "    <tr>\n",
              "      <th>2</th>\n",
              "      <td>44605</td>\n",
              "      <td>13/07/2020 06:16</td>\n",
              "      <td>413</td>\n",
              "      <td>0</td>\n",
              "      <td>2345</td>\n",
              "      <td>Credit Card</td>\n",
              "      <td>31</td>\n",
              "      <td>Female</td>\n",
              "      <td>Jeans</td>\n",
              "    </tr>\n",
              "    <tr>\n",
              "      <th>3</th>\n",
              "      <td>44605</td>\n",
              "      <td>17/01/2023 13:14</td>\n",
              "      <td>396</td>\n",
              "      <td>3</td>\n",
              "      <td>937</td>\n",
              "      <td>Cash</td>\n",
              "      <td>31</td>\n",
              "      <td>Female</td>\n",
              "      <td>Sandals</td>\n",
              "    </tr>\n",
              "    <tr>\n",
              "      <th>4</th>\n",
              "      <td>44605</td>\n",
              "      <td>1/5/2021 11:29</td>\n",
              "      <td>259</td>\n",
              "      <td>3</td>\n",
              "      <td>2598</td>\n",
              "      <td>PayPal</td>\n",
              "      <td>31</td>\n",
              "      <td>Female</td>\n",
              "      <td>Blouse</td>\n",
              "    </tr>\n",
              "    <tr>\n",
              "      <th>...</th>\n",
              "      <td>...</td>\n",
              "      <td>...</td>\n",
              "      <td>...</td>\n",
              "      <td>...</td>\n",
              "      <td>...</td>\n",
              "      <td>...</td>\n",
              "      <td>...</td>\n",
              "      <td>...</td>\n",
              "      <td>...</td>\n",
              "    </tr>\n",
              "    <tr>\n",
              "      <th>499995</th>\n",
              "      <td>33308</td>\n",
              "      <td>8/10/2023 13:39</td>\n",
              "      <td>279</td>\n",
              "      <td>1</td>\n",
              "      <td>2187</td>\n",
              "      <td>PayPal</td>\n",
              "      <td>55</td>\n",
              "      <td>Male</td>\n",
              "      <td>Sneakers</td>\n",
              "    </tr>\n",
              "    <tr>\n",
              "      <th>499996</th>\n",
              "      <td>48835</td>\n",
              "      <td>11/23/2021 1:30</td>\n",
              "      <td>27</td>\n",
              "      <td>0</td>\n",
              "      <td>3615</td>\n",
              "      <td>Credit Card</td>\n",
              "      <td>42</td>\n",
              "      <td>Female</td>\n",
              "      <td>Dress</td>\n",
              "    </tr>\n",
              "    <tr>\n",
              "      <th>499997</th>\n",
              "      <td>21019</td>\n",
              "      <td>7/2/2020 14:04</td>\n",
              "      <td>17</td>\n",
              "      <td>5</td>\n",
              "      <td>2466</td>\n",
              "      <td>Cash</td>\n",
              "      <td>41</td>\n",
              "      <td>Male</td>\n",
              "      <td>Belt</td>\n",
              "    </tr>\n",
              "    <tr>\n",
              "      <th>499998</th>\n",
              "      <td>49234</td>\n",
              "      <td>12/30/2020 2:02</td>\n",
              "      <td>398</td>\n",
              "      <td>2</td>\n",
              "      <td>3668</td>\n",
              "      <td>Crypto</td>\n",
              "      <td>34</td>\n",
              "      <td>Female</td>\n",
              "      <td>Boots</td>\n",
              "    </tr>\n",
              "    <tr>\n",
              "      <th>499999</th>\n",
              "      <td>16971</td>\n",
              "      <td>3/13/2021 16:28</td>\n",
              "      <td>425</td>\n",
              "      <td>3</td>\n",
              "      <td>2370</td>\n",
              "      <td>Cash</td>\n",
              "      <td>36</td>\n",
              "      <td>Female</td>\n",
              "      <td>Scarf</td>\n",
              "    </tr>\n",
              "  </tbody>\n",
              "</table>\n",
              "<p>500000 rows × 9 columns</p>\n",
              "</div>\n",
              "    <div class=\"colab-df-buttons\">\n",
              "\n",
              "  <div class=\"colab-df-container\">\n",
              "    <button class=\"colab-df-convert\" onclick=\"convertToInteractive('df-f67a67aa-b9f1-4b48-a386-7662b3f87570')\"\n",
              "            title=\"Convert this dataframe to an interactive table.\"\n",
              "            style=\"display:none;\">\n",
              "\n",
              "  <svg xmlns=\"http://www.w3.org/2000/svg\" height=\"24px\" viewBox=\"0 -960 960 960\">\n",
              "    <path d=\"M120-120v-720h720v720H120Zm60-500h600v-160H180v160Zm220 220h160v-160H400v160Zm0 220h160v-160H400v160ZM180-400h160v-160H180v160Zm440 0h160v-160H620v160ZM180-180h160v-160H180v160Zm440 0h160v-160H620v160Z\"/>\n",
              "  </svg>\n",
              "    </button>\n",
              "\n",
              "  <style>\n",
              "    .colab-df-container {\n",
              "      display:flex;\n",
              "      gap: 12px;\n",
              "    }\n",
              "\n",
              "    .colab-df-convert {\n",
              "      background-color: #E8F0FE;\n",
              "      border: none;\n",
              "      border-radius: 50%;\n",
              "      cursor: pointer;\n",
              "      display: none;\n",
              "      fill: #1967D2;\n",
              "      height: 32px;\n",
              "      padding: 0 0 0 0;\n",
              "      width: 32px;\n",
              "    }\n",
              "\n",
              "    .colab-df-convert:hover {\n",
              "      background-color: #E2EBFA;\n",
              "      box-shadow: 0px 1px 2px rgba(60, 64, 67, 0.3), 0px 1px 3px 1px rgba(60, 64, 67, 0.15);\n",
              "      fill: #174EA6;\n",
              "    }\n",
              "\n",
              "    .colab-df-buttons div {\n",
              "      margin-bottom: 4px;\n",
              "    }\n",
              "\n",
              "    [theme=dark] .colab-df-convert {\n",
              "      background-color: #3B4455;\n",
              "      fill: #D2E3FC;\n",
              "    }\n",
              "\n",
              "    [theme=dark] .colab-df-convert:hover {\n",
              "      background-color: #434B5C;\n",
              "      box-shadow: 0px 1px 3px 1px rgba(0, 0, 0, 0.15);\n",
              "      filter: drop-shadow(0px 1px 2px rgba(0, 0, 0, 0.3));\n",
              "      fill: #FFFFFF;\n",
              "    }\n",
              "  </style>\n",
              "\n",
              "    <script>\n",
              "      const buttonEl =\n",
              "        document.querySelector('#df-f67a67aa-b9f1-4b48-a386-7662b3f87570 button.colab-df-convert');\n",
              "      buttonEl.style.display =\n",
              "        google.colab.kernel.accessAllowed ? 'block' : 'none';\n",
              "\n",
              "      async function convertToInteractive(key) {\n",
              "        const element = document.querySelector('#df-f67a67aa-b9f1-4b48-a386-7662b3f87570');\n",
              "        const dataTable =\n",
              "          await google.colab.kernel.invokeFunction('convertToInteractive',\n",
              "                                                    [key], {});\n",
              "        if (!dataTable) return;\n",
              "\n",
              "        const docLinkHtml = 'Like what you see? Visit the ' +\n",
              "          '<a target=\"_blank\" href=https://colab.research.google.com/notebooks/data_table.ipynb>data table notebook</a>'\n",
              "          + ' to learn more about interactive tables.';\n",
              "        element.innerHTML = '';\n",
              "        dataTable['output_type'] = 'display_data';\n",
              "        await google.colab.output.renderOutput(dataTable, element);\n",
              "        const docLink = document.createElement('div');\n",
              "        docLink.innerHTML = docLinkHtml;\n",
              "        element.appendChild(docLink);\n",
              "      }\n",
              "    </script>\n",
              "  </div>\n",
              "\n",
              "\n",
              "<div id=\"df-435d291b-a111-4e8d-b17d-82117f78d5d9\">\n",
              "  <button class=\"colab-df-quickchart\" onclick=\"quickchart('df-435d291b-a111-4e8d-b17d-82117f78d5d9')\"\n",
              "            title=\"Suggest charts\"\n",
              "            style=\"display:none;\">\n",
              "\n",
              "<svg xmlns=\"http://www.w3.org/2000/svg\" height=\"24px\"viewBox=\"0 0 24 24\"\n",
              "     width=\"24px\">\n",
              "    <g>\n",
              "        <path d=\"M19 3H5c-1.1 0-2 .9-2 2v14c0 1.1.9 2 2 2h14c1.1 0 2-.9 2-2V5c0-1.1-.9-2-2-2zM9 17H7v-7h2v7zm4 0h-2V7h2v10zm4 0h-2v-4h2v4z\"/>\n",
              "    </g>\n",
              "</svg>\n",
              "  </button>\n",
              "\n",
              "<style>\n",
              "  .colab-df-quickchart {\n",
              "      --bg-color: #E8F0FE;\n",
              "      --fill-color: #1967D2;\n",
              "      --hover-bg-color: #E2EBFA;\n",
              "      --hover-fill-color: #174EA6;\n",
              "      --disabled-fill-color: #AAA;\n",
              "      --disabled-bg-color: #DDD;\n",
              "  }\n",
              "\n",
              "  [theme=dark] .colab-df-quickchart {\n",
              "      --bg-color: #3B4455;\n",
              "      --fill-color: #D2E3FC;\n",
              "      --hover-bg-color: #434B5C;\n",
              "      --hover-fill-color: #FFFFFF;\n",
              "      --disabled-bg-color: #3B4455;\n",
              "      --disabled-fill-color: #666;\n",
              "  }\n",
              "\n",
              "  .colab-df-quickchart {\n",
              "    background-color: var(--bg-color);\n",
              "    border: none;\n",
              "    border-radius: 50%;\n",
              "    cursor: pointer;\n",
              "    display: none;\n",
              "    fill: var(--fill-color);\n",
              "    height: 32px;\n",
              "    padding: 0;\n",
              "    width: 32px;\n",
              "  }\n",
              "\n",
              "  .colab-df-quickchart:hover {\n",
              "    background-color: var(--hover-bg-color);\n",
              "    box-shadow: 0 1px 2px rgba(60, 64, 67, 0.3), 0 1px 3px 1px rgba(60, 64, 67, 0.15);\n",
              "    fill: var(--button-hover-fill-color);\n",
              "  }\n",
              "\n",
              "  .colab-df-quickchart-complete:disabled,\n",
              "  .colab-df-quickchart-complete:disabled:hover {\n",
              "    background-color: var(--disabled-bg-color);\n",
              "    fill: var(--disabled-fill-color);\n",
              "    box-shadow: none;\n",
              "  }\n",
              "\n",
              "  .colab-df-spinner {\n",
              "    border: 2px solid var(--fill-color);\n",
              "    border-color: transparent;\n",
              "    border-bottom-color: var(--fill-color);\n",
              "    animation:\n",
              "      spin 1s steps(1) infinite;\n",
              "  }\n",
              "\n",
              "  @keyframes spin {\n",
              "    0% {\n",
              "      border-color: transparent;\n",
              "      border-bottom-color: var(--fill-color);\n",
              "      border-left-color: var(--fill-color);\n",
              "    }\n",
              "    20% {\n",
              "      border-color: transparent;\n",
              "      border-left-color: var(--fill-color);\n",
              "      border-top-color: var(--fill-color);\n",
              "    }\n",
              "    30% {\n",
              "      border-color: transparent;\n",
              "      border-left-color: var(--fill-color);\n",
              "      border-top-color: var(--fill-color);\n",
              "      border-right-color: var(--fill-color);\n",
              "    }\n",
              "    40% {\n",
              "      border-color: transparent;\n",
              "      border-right-color: var(--fill-color);\n",
              "      border-top-color: var(--fill-color);\n",
              "    }\n",
              "    60% {\n",
              "      border-color: transparent;\n",
              "      border-right-color: var(--fill-color);\n",
              "    }\n",
              "    80% {\n",
              "      border-color: transparent;\n",
              "      border-right-color: var(--fill-color);\n",
              "      border-bottom-color: var(--fill-color);\n",
              "    }\n",
              "    90% {\n",
              "      border-color: transparent;\n",
              "      border-bottom-color: var(--fill-color);\n",
              "    }\n",
              "  }\n",
              "</style>\n",
              "\n",
              "  <script>\n",
              "    async function quickchart(key) {\n",
              "      const quickchartButtonEl =\n",
              "        document.querySelector('#' + key + ' button');\n",
              "      quickchartButtonEl.disabled = true;  // To prevent multiple clicks.\n",
              "      quickchartButtonEl.classList.add('colab-df-spinner');\n",
              "      try {\n",
              "        const charts = await google.colab.kernel.invokeFunction(\n",
              "            'suggestCharts', [key], {});\n",
              "      } catch (error) {\n",
              "        console.error('Error during call to suggestCharts:', error);\n",
              "      }\n",
              "      quickchartButtonEl.classList.remove('colab-df-spinner');\n",
              "      quickchartButtonEl.classList.add('colab-df-quickchart-complete');\n",
              "    }\n",
              "    (() => {\n",
              "      let quickchartButtonEl =\n",
              "        document.querySelector('#df-435d291b-a111-4e8d-b17d-82117f78d5d9 button');\n",
              "      quickchartButtonEl.style.display =\n",
              "        google.colab.kernel.accessAllowed ? 'block' : 'none';\n",
              "    })();\n",
              "  </script>\n",
              "</div>\n",
              "    </div>\n",
              "  </div>\n"
            ],
            "application/vnd.google.colaboratory.intrinsic+json": {
              "type": "dataframe",
              "variable_name": "data"
            }
          },
          "metadata": {},
          "execution_count": 44
        }
      ]
    },
    {
      "cell_type": "code",
      "source": [
        "data.info()"
      ],
      "metadata": {
        "colab": {
          "base_uri": "https://localhost:8080/"
        },
        "id": "KdZUBSt7IHit",
        "outputId": "8acfd241-68c4-4160-e8f1-8facf2bde596"
      },
      "execution_count": null,
      "outputs": [
        {
          "output_type": "stream",
          "name": "stdout",
          "text": [
            "<class 'pandas.core.frame.DataFrame'>\n",
            "RangeIndex: 500000 entries, 0 to 499999\n",
            "Data columns (total 9 columns):\n",
            " #   Column                 Non-Null Count   Dtype \n",
            "---  ------                 --------------   ----- \n",
            " 0   Customer ID            500000 non-null  int64 \n",
            " 1   Purchase Date          500000 non-null  object\n",
            " 2   Product Price          500000 non-null  int64 \n",
            " 3   Quantity               500000 non-null  int64 \n",
            " 4   Total Purchase Amount  500000 non-null  int64 \n",
            " 5   Payment Method         500000 non-null  object\n",
            " 6   Age                    500000 non-null  int64 \n",
            " 7   Gender                 500000 non-null  object\n",
            " 8   Item Purchased         500000 non-null  object\n",
            "dtypes: int64(5), object(4)\n",
            "memory usage: 34.3+ MB\n"
          ]
        }
      ]
    },
    {
      "cell_type": "markdown",
      "source": [
        "**Number of products that was not returened?**"
      ],
      "metadata": {
        "id": "attOqbJH5tJ9"
      }
    },
    {
      "cell_type": "code",
      "source": [
        "500000 - 405022"
      ],
      "metadata": {
        "colab": {
          "base_uri": "https://localhost:8080/"
        },
        "id": "4b0xqP3M54hh",
        "outputId": "39076fba-5aad-4504-c84c-dd7c9d91407c"
      },
      "execution_count": null,
      "outputs": [
        {
          "output_type": "execute_result",
          "data": {
            "text/plain": [
              "94978"
            ]
          },
          "metadata": {},
          "execution_count": 46
        }
      ]
    },
    {
      "cell_type": "markdown",
      "source": [
        "**Number of Items sold in the store?**"
      ],
      "metadata": {
        "id": "cIwxhgQx5hm1"
      }
    },
    {
      "cell_type": "code",
      "source": [
        "data['Item Purchased'].nunique()"
      ],
      "metadata": {
        "colab": {
          "base_uri": "https://localhost:8080/"
        },
        "id": "lpnjNgNUE2nD",
        "outputId": "db2b0354-e5e5-46e2-aa45-6be0909d4683"
      },
      "execution_count": null,
      "outputs": [
        {
          "output_type": "execute_result",
          "data": {
            "text/plain": [
              "25"
            ]
          },
          "metadata": {},
          "execution_count": 47
        }
      ]
    },
    {
      "cell_type": "code",
      "source": [
        "data['Customer ID'].nunique()"
      ],
      "metadata": {
        "colab": {
          "base_uri": "https://localhost:8080/"
        },
        "id": "jirgiBX7_m8a",
        "outputId": "f8a739ac-b655-4a96-b834-a91ede27b1c8"
      },
      "execution_count": null,
      "outputs": [
        {
          "output_type": "execute_result",
          "data": {
            "text/plain": [
              "49998"
            ]
          },
          "metadata": {},
          "execution_count": 48
        }
      ]
    },
    {
      "cell_type": "code",
      "source": [
        "# Function to find the total number of each product sold\n",
        "def most_Sold_Product(data):\n",
        "  product_Sum = {} # declared empty dictionary to store the total sum of each product\n",
        "  # The below checks if a product is in the dataframe column 'Item Purchased' exists and finds all it's occurrences in the 'Quantity' column and sum them up\n",
        "  for name_Of_Product in data['Item Purchased'].unique(): # for every unique product in the column Item Purchased\n",
        "    total_prod = data[data['Item Purchased'] == name_Of_Product]['Quantity'].sum() # Filter based on the product name and sum all the quantities (in the Quantity column) of the filtered product.\n",
        "    product_Sum[name_Of_Product] = total_prod #assigns the sum of each product to the empty dictionary created earlier\n",
        "\n",
        "  #sort the products based on most sold to the least sold\n",
        "  sorted_product_Sum = sorted(product_Sum.items(), key=lambda x: x[1], reverse=True)\n",
        "\n",
        "  # Print sum total of products on the dataset\n",
        "  for name_Of_Product, total_prod in sorted_product_Sum:\n",
        "    print('Total', name_Of_Product, 'sold:', total_prod)\n",
        "\n",
        "most_Sold_Product(data)"
      ],
      "metadata": {
        "colab": {
          "base_uri": "https://localhost:8080/"
        },
        "id": "yAbZJuTbmBjf",
        "outputId": "9be606f2-7d55-4c52-8d2f-2f030d2db4fd"
      },
      "execution_count": null,
      "outputs": [
        {
          "output_type": "stream",
          "name": "stdout",
          "text": [
            "Total Jewelry sold: 57142\n",
            "Total Pants sold: 56817\n",
            "Total Blouse sold: 56428\n",
            "Total Shirt sold: 56202\n",
            "Total Dress sold: 55541\n",
            "Total Sweater sold: 54494\n",
            "Total Jacket sold: 54258\n",
            "Total Coat sold: 54020\n",
            "Total Belt sold: 53816\n",
            "Total Sunglasses sold: 53443\n",
            "Total Sandals sold: 53210\n",
            "Total Socks sold: 52799\n",
            "Total Skirt sold: 52697\n",
            "Total Scarf sold: 52545\n",
            "Total Shorts sold: 52286\n",
            "Total Hat sold: 51293\n",
            "Total Handbag sold: 50855\n",
            "Total Hoodie sold: 50246\n",
            "Total Shoes sold: 49979\n",
            "Total T-shirt sold: 48930\n",
            "Total Sneakers sold: 48520\n",
            "Total Backpack sold: 47625\n",
            "Total Boots sold: 47603\n",
            "Total Gloves sold: 46630\n",
            "Total Jeans sold: 41334\n"
          ]
        }
      ]
    },
    {
      "cell_type": "code",
      "source": [
        "# Listing all unique years on the dataset\n",
        "data['Purchase Date'].apply(lambda x: x.split('/')[2].split(' ')[0]).unique()"
      ],
      "metadata": {
        "colab": {
          "base_uri": "https://localhost:8080/"
        },
        "id": "rRIknY6MFbXU",
        "outputId": "bb1eaf03-1345-4a39-8fa9-42508682a8d4"
      },
      "execution_count": null,
      "outputs": [
        {
          "output_type": "execute_result",
          "data": {
            "text/plain": [
              "array(['2023', '2021', '2020', '2022'], dtype=object)"
            ]
          },
          "metadata": {},
          "execution_count": 50
        }
      ]
    },
    {
      "cell_type": "markdown",
      "source": [
        "**How much revenue was made each year?\n",
        "Sort the years by product price.**"
      ],
      "metadata": {
        "id": "HD35fIejJWKB"
      }
    },
    {
      "cell_type": "code",
      "source": [
        "# Total purchase by Year\n",
        "By_Year = data.groupby(data['Purchase Date'].apply(lambda x: x.split('/')[2].split(' ')[0]))['Total Purchase Amount'].sum()\n",
        "By_Year"
      ],
      "metadata": {
        "id": "up0c8HAjMWcv",
        "colab": {
          "base_uri": "https://localhost:8080/"
        },
        "outputId": "37967331-1e28-4991-e126-5f6d4bd990c3"
      },
      "execution_count": null,
      "outputs": [
        {
          "output_type": "execute_result",
          "data": {
            "text/plain": [
              "Purchase Date\n",
              "2020    370153678\n",
              "2021    366515884\n",
              "2022    367270229\n",
              "2023    258749191\n",
              "Name: Total Purchase Amount, dtype: int64"
            ]
          },
          "metadata": {},
          "execution_count": 51
        }
      ]
    },
    {
      "cell_type": "code",
      "source": [
        "# Total Purchase for the 4 years\n",
        "By_Year.sum()"
      ],
      "metadata": {
        "colab": {
          "base_uri": "https://localhost:8080/"
        },
        "id": "pdUNvk7hU9oX",
        "outputId": "a4afd209-826c-40a4-b724-59a8f351d322"
      },
      "execution_count": null,
      "outputs": [
        {
          "output_type": "execute_result",
          "data": {
            "text/plain": [
              "1362688982"
            ]
          },
          "metadata": {},
          "execution_count": 52
        }
      ]
    },
    {
      "cell_type": "markdown",
      "source": [
        "**Average Price spent per age group**"
      ],
      "metadata": {
        "id": "8r_6wLm-Iiw0"
      }
    },
    {
      "cell_type": "code",
      "source": [
        "# Average of Total purchase by Age\n",
        "data.groupby('Age')['Total Purchase Amount'].mean().sort_values(ascending= False).head(10)"
      ],
      "metadata": {
        "colab": {
          "base_uri": "https://localhost:8080/"
        },
        "id": "jObAZNPNIZRm",
        "outputId": "d33022aa-b6f8-4076-9476-d98b93e936c9"
      },
      "execution_count": null,
      "outputs": [
        {
          "output_type": "execute_result",
          "data": {
            "text/plain": [
              "Age\n",
              "68    2856.231787\n",
              "67    2856.138489\n",
              "66    2853.314596\n",
              "70    2849.363342\n",
              "63    2842.010849\n",
              "65    2836.041856\n",
              "64    2829.500776\n",
              "69    2823.413374\n",
              "59    2816.196087\n",
              "61    2813.011063\n",
              "Name: Total Purchase Amount, dtype: float64"
            ]
          },
          "metadata": {},
          "execution_count": 53
        }
      ]
    },
    {
      "cell_type": "markdown",
      "source": [
        "**Total expenses by age**"
      ],
      "metadata": {
        "id": "Wc_xWvchP_ZQ"
      }
    },
    {
      "cell_type": "code",
      "source": [
        "# Total purchase by Age\n",
        "data.groupby('Age')['Total Purchase Amount'].sum().sort_values(ascending= False).head(10)"
      ],
      "metadata": {
        "colab": {
          "base_uri": "https://localhost:8080/"
        },
        "id": "IPVILkktH3xW",
        "outputId": "7cd6b5e0-2b31-4ca7-b1d0-74a6c86946ab"
      },
      "execution_count": null,
      "outputs": [
        {
          "output_type": "execute_result",
          "data": {
            "text/plain": [
              "Age\n",
              "64    27330148\n",
              "70    27313997\n",
              "68    27208464\n",
              "51    26966361\n",
              "67    26810572\n",
              "69    26726431\n",
              "63    26720586\n",
              "61    26698288\n",
              "56    26670164\n",
              "43    26550621\n",
              "Name: Total Purchase Amount, dtype: int64"
            ]
          },
          "metadata": {},
          "execution_count": 54
        }
      ]
    },
    {
      "cell_type": "code",
      "source": [
        "# Finding Total purchase per gender\n",
        "by_gender = data.groupby('Gender')['Total Purchase Amount'].sum().sort_values(ascending= False)\n",
        "by_gender"
      ],
      "metadata": {
        "colab": {
          "base_uri": "https://localhost:8080/"
        },
        "id": "dLpeNVviOx87",
        "outputId": "db5ad589-0c46-48f4-ae27-d099ae54bb2b"
      },
      "execution_count": null,
      "outputs": [
        {
          "output_type": "execute_result",
          "data": {
            "text/plain": [
              "Gender\n",
              "Male      681667105\n",
              "Female    681021877\n",
              "Name: Total Purchase Amount, dtype: int64"
            ]
          },
          "metadata": {},
          "execution_count": 55
        }
      ]
    },
    {
      "cell_type": "code",
      "source": [
        "# Finding the Average expenses by gender\n",
        "print('================================================''\\n Average Total purchase amount between the 2 gender''\\n==============================================')\n",
        "Avg_by_gender = data.groupby('Gender')['Total Purchase Amount'].mean().sort_values(ascending= False)\n",
        "print(Avg_by_gender)\n",
        "print('================================================''\\n Average Difference between the 2 gender''\\n==============================================')\n",
        "Avg_by_gender.diff() # The difference of the Averages"
      ],
      "metadata": {
        "colab": {
          "base_uri": "https://localhost:8080/"
        },
        "id": "gLczAHzIahss",
        "outputId": "239418bd-5447-4e3d-9d73-ee37a77f95b1"
      },
      "execution_count": null,
      "outputs": [
        {
          "output_type": "stream",
          "name": "stdout",
          "text": [
            "================================================\n",
            " Average Total purchase amount between the 2 gender\n",
            "==============================================\n",
            "Gender\n",
            "Male      2725.403833\n",
            "Female    2725.352071\n",
            "Name: Total Purchase Amount, dtype: float64\n",
            "================================================\n",
            " Average Difference between the 2 gender\n",
            "==============================================\n"
          ]
        },
        {
          "output_type": "execute_result",
          "data": {
            "text/plain": [
              "Gender\n",
              "Male           NaN\n",
              "Female   -0.051761\n",
              "Name: Total Purchase Amount, dtype: float64"
            ]
          },
          "metadata": {},
          "execution_count": 56
        }
      ]
    },
    {
      "cell_type": "code",
      "source": [
        "by_gender.sum() # Sum of the total expenses of both gender"
      ],
      "metadata": {
        "colab": {
          "base_uri": "https://localhost:8080/"
        },
        "id": "KVGN_DiwTslR",
        "outputId": "87be6fd4-6b66-4a06-8ab6-905f3bd42493"
      },
      "execution_count": null,
      "outputs": [
        {
          "output_type": "execute_result",
          "data": {
            "text/plain": [
              "1362688982"
            ]
          },
          "metadata": {},
          "execution_count": 57
        }
      ]
    },
    {
      "cell_type": "code",
      "source": [
        "by_gender.diff() # Difference in the total expenses of both gender"
      ],
      "metadata": {
        "colab": {
          "base_uri": "https://localhost:8080/"
        },
        "id": "xNVyLzPgUzTn",
        "outputId": "fb1e8b0a-5b47-40c6-d90e-ae6ed37fde0a"
      },
      "execution_count": null,
      "outputs": [
        {
          "output_type": "execute_result",
          "data": {
            "text/plain": [
              "Gender\n",
              "Male           NaN\n",
              "Female   -645228.0\n",
              "Name: Total Purchase Amount, dtype: float64"
            ]
          },
          "metadata": {},
          "execution_count": 58
        }
      ]
    },
    {
      "cell_type": "code",
      "source": [
        "# Average age for both genders\n",
        "data.groupby('Gender')['Age'].mean()"
      ],
      "metadata": {
        "colab": {
          "base_uri": "https://localhost:8080/"
        },
        "id": "ZDRN_PCSWDdZ",
        "outputId": "45e9d8a8-b30e-4b5f-977d-51045e41ef30"
      },
      "execution_count": null,
      "outputs": [
        {
          "output_type": "execute_result",
          "data": {
            "text/plain": [
              "Gender\n",
              "Female    43.874930\n",
              "Male      43.863879\n",
              "Name: Age, dtype: float64"
            ]
          },
          "metadata": {},
          "execution_count": 59
        }
      ]
    },
    {
      "cell_type": "markdown",
      "source": [
        "To develope a recommendation model without explicit customer ratings, we would use the **Matrix Factorization** techniques **Alternating Least Squares (ALS)**. This is because our data lacks direct feedback, we rely on implicit signals such as product quantities purchased. ALS helps uncover such implicit feedbacks patterns in customer interactions with products."
      ],
      "metadata": {
        "id": "Q81ebaPV6TeJ"
      }
    },
    {
      "cell_type": "code",
      "source": [
        "data.drop(columns=['Purchase Date','Product Price','Total Purchase Amount','Payment Method','Age','Gender'],axis=1, inplace=True)\n",
        "data"
      ],
      "metadata": {
        "colab": {
          "base_uri": "https://localhost:8080/",
          "height": 423
        },
        "id": "C425CMy88AqK",
        "outputId": "70159268-a70a-40f1-facd-7d8a6e0e36f8"
      },
      "execution_count": null,
      "outputs": [
        {
          "output_type": "execute_result",
          "data": {
            "text/plain": [
              "        Customer ID  Quantity Item Purchased\n",
              "0             44605         0         Blouse\n",
              "1             44605         2        Sweater\n",
              "2             44605         0          Jeans\n",
              "3             44605         3        Sandals\n",
              "4             44605         3         Blouse\n",
              "...             ...       ...            ...\n",
              "499995        33308         1       Sneakers\n",
              "499996        48835         0          Dress\n",
              "499997        21019         5           Belt\n",
              "499998        49234         2          Boots\n",
              "499999        16971         3          Scarf\n",
              "\n",
              "[500000 rows x 3 columns]"
            ],
            "text/html": [
              "\n",
              "  <div id=\"df-9a95cdae-0ad7-4964-8e0a-0452056e731d\" class=\"colab-df-container\">\n",
              "    <div>\n",
              "<style scoped>\n",
              "    .dataframe tbody tr th:only-of-type {\n",
              "        vertical-align: middle;\n",
              "    }\n",
              "\n",
              "    .dataframe tbody tr th {\n",
              "        vertical-align: top;\n",
              "    }\n",
              "\n",
              "    .dataframe thead th {\n",
              "        text-align: right;\n",
              "    }\n",
              "</style>\n",
              "<table border=\"1\" class=\"dataframe\">\n",
              "  <thead>\n",
              "    <tr style=\"text-align: right;\">\n",
              "      <th></th>\n",
              "      <th>Customer ID</th>\n",
              "      <th>Quantity</th>\n",
              "      <th>Item Purchased</th>\n",
              "    </tr>\n",
              "  </thead>\n",
              "  <tbody>\n",
              "    <tr>\n",
              "      <th>0</th>\n",
              "      <td>44605</td>\n",
              "      <td>0</td>\n",
              "      <td>Blouse</td>\n",
              "    </tr>\n",
              "    <tr>\n",
              "      <th>1</th>\n",
              "      <td>44605</td>\n",
              "      <td>2</td>\n",
              "      <td>Sweater</td>\n",
              "    </tr>\n",
              "    <tr>\n",
              "      <th>2</th>\n",
              "      <td>44605</td>\n",
              "      <td>0</td>\n",
              "      <td>Jeans</td>\n",
              "    </tr>\n",
              "    <tr>\n",
              "      <th>3</th>\n",
              "      <td>44605</td>\n",
              "      <td>3</td>\n",
              "      <td>Sandals</td>\n",
              "    </tr>\n",
              "    <tr>\n",
              "      <th>4</th>\n",
              "      <td>44605</td>\n",
              "      <td>3</td>\n",
              "      <td>Blouse</td>\n",
              "    </tr>\n",
              "    <tr>\n",
              "      <th>...</th>\n",
              "      <td>...</td>\n",
              "      <td>...</td>\n",
              "      <td>...</td>\n",
              "    </tr>\n",
              "    <tr>\n",
              "      <th>499995</th>\n",
              "      <td>33308</td>\n",
              "      <td>1</td>\n",
              "      <td>Sneakers</td>\n",
              "    </tr>\n",
              "    <tr>\n",
              "      <th>499996</th>\n",
              "      <td>48835</td>\n",
              "      <td>0</td>\n",
              "      <td>Dress</td>\n",
              "    </tr>\n",
              "    <tr>\n",
              "      <th>499997</th>\n",
              "      <td>21019</td>\n",
              "      <td>5</td>\n",
              "      <td>Belt</td>\n",
              "    </tr>\n",
              "    <tr>\n",
              "      <th>499998</th>\n",
              "      <td>49234</td>\n",
              "      <td>2</td>\n",
              "      <td>Boots</td>\n",
              "    </tr>\n",
              "    <tr>\n",
              "      <th>499999</th>\n",
              "      <td>16971</td>\n",
              "      <td>3</td>\n",
              "      <td>Scarf</td>\n",
              "    </tr>\n",
              "  </tbody>\n",
              "</table>\n",
              "<p>500000 rows × 3 columns</p>\n",
              "</div>\n",
              "    <div class=\"colab-df-buttons\">\n",
              "\n",
              "  <div class=\"colab-df-container\">\n",
              "    <button class=\"colab-df-convert\" onclick=\"convertToInteractive('df-9a95cdae-0ad7-4964-8e0a-0452056e731d')\"\n",
              "            title=\"Convert this dataframe to an interactive table.\"\n",
              "            style=\"display:none;\">\n",
              "\n",
              "  <svg xmlns=\"http://www.w3.org/2000/svg\" height=\"24px\" viewBox=\"0 -960 960 960\">\n",
              "    <path d=\"M120-120v-720h720v720H120Zm60-500h600v-160H180v160Zm220 220h160v-160H400v160Zm0 220h160v-160H400v160ZM180-400h160v-160H180v160Zm440 0h160v-160H620v160ZM180-180h160v-160H180v160Zm440 0h160v-160H620v160Z\"/>\n",
              "  </svg>\n",
              "    </button>\n",
              "\n",
              "  <style>\n",
              "    .colab-df-container {\n",
              "      display:flex;\n",
              "      gap: 12px;\n",
              "    }\n",
              "\n",
              "    .colab-df-convert {\n",
              "      background-color: #E8F0FE;\n",
              "      border: none;\n",
              "      border-radius: 50%;\n",
              "      cursor: pointer;\n",
              "      display: none;\n",
              "      fill: #1967D2;\n",
              "      height: 32px;\n",
              "      padding: 0 0 0 0;\n",
              "      width: 32px;\n",
              "    }\n",
              "\n",
              "    .colab-df-convert:hover {\n",
              "      background-color: #E2EBFA;\n",
              "      box-shadow: 0px 1px 2px rgba(60, 64, 67, 0.3), 0px 1px 3px 1px rgba(60, 64, 67, 0.15);\n",
              "      fill: #174EA6;\n",
              "    }\n",
              "\n",
              "    .colab-df-buttons div {\n",
              "      margin-bottom: 4px;\n",
              "    }\n",
              "\n",
              "    [theme=dark] .colab-df-convert {\n",
              "      background-color: #3B4455;\n",
              "      fill: #D2E3FC;\n",
              "    }\n",
              "\n",
              "    [theme=dark] .colab-df-convert:hover {\n",
              "      background-color: #434B5C;\n",
              "      box-shadow: 0px 1px 3px 1px rgba(0, 0, 0, 0.15);\n",
              "      filter: drop-shadow(0px 1px 2px rgba(0, 0, 0, 0.3));\n",
              "      fill: #FFFFFF;\n",
              "    }\n",
              "  </style>\n",
              "\n",
              "    <script>\n",
              "      const buttonEl =\n",
              "        document.querySelector('#df-9a95cdae-0ad7-4964-8e0a-0452056e731d button.colab-df-convert');\n",
              "      buttonEl.style.display =\n",
              "        google.colab.kernel.accessAllowed ? 'block' : 'none';\n",
              "\n",
              "      async function convertToInteractive(key) {\n",
              "        const element = document.querySelector('#df-9a95cdae-0ad7-4964-8e0a-0452056e731d');\n",
              "        const dataTable =\n",
              "          await google.colab.kernel.invokeFunction('convertToInteractive',\n",
              "                                                    [key], {});\n",
              "        if (!dataTable) return;\n",
              "\n",
              "        const docLinkHtml = 'Like what you see? Visit the ' +\n",
              "          '<a target=\"_blank\" href=https://colab.research.google.com/notebooks/data_table.ipynb>data table notebook</a>'\n",
              "          + ' to learn more about interactive tables.';\n",
              "        element.innerHTML = '';\n",
              "        dataTable['output_type'] = 'display_data';\n",
              "        await google.colab.output.renderOutput(dataTable, element);\n",
              "        const docLink = document.createElement('div');\n",
              "        docLink.innerHTML = docLinkHtml;\n",
              "        element.appendChild(docLink);\n",
              "      }\n",
              "    </script>\n",
              "  </div>\n",
              "\n",
              "\n",
              "<div id=\"df-e17f4d58-7eca-45b1-aaaf-658890a459d6\">\n",
              "  <button class=\"colab-df-quickchart\" onclick=\"quickchart('df-e17f4d58-7eca-45b1-aaaf-658890a459d6')\"\n",
              "            title=\"Suggest charts\"\n",
              "            style=\"display:none;\">\n",
              "\n",
              "<svg xmlns=\"http://www.w3.org/2000/svg\" height=\"24px\"viewBox=\"0 0 24 24\"\n",
              "     width=\"24px\">\n",
              "    <g>\n",
              "        <path d=\"M19 3H5c-1.1 0-2 .9-2 2v14c0 1.1.9 2 2 2h14c1.1 0 2-.9 2-2V5c0-1.1-.9-2-2-2zM9 17H7v-7h2v7zm4 0h-2V7h2v10zm4 0h-2v-4h2v4z\"/>\n",
              "    </g>\n",
              "</svg>\n",
              "  </button>\n",
              "\n",
              "<style>\n",
              "  .colab-df-quickchart {\n",
              "      --bg-color: #E8F0FE;\n",
              "      --fill-color: #1967D2;\n",
              "      --hover-bg-color: #E2EBFA;\n",
              "      --hover-fill-color: #174EA6;\n",
              "      --disabled-fill-color: #AAA;\n",
              "      --disabled-bg-color: #DDD;\n",
              "  }\n",
              "\n",
              "  [theme=dark] .colab-df-quickchart {\n",
              "      --bg-color: #3B4455;\n",
              "      --fill-color: #D2E3FC;\n",
              "      --hover-bg-color: #434B5C;\n",
              "      --hover-fill-color: #FFFFFF;\n",
              "      --disabled-bg-color: #3B4455;\n",
              "      --disabled-fill-color: #666;\n",
              "  }\n",
              "\n",
              "  .colab-df-quickchart {\n",
              "    background-color: var(--bg-color);\n",
              "    border: none;\n",
              "    border-radius: 50%;\n",
              "    cursor: pointer;\n",
              "    display: none;\n",
              "    fill: var(--fill-color);\n",
              "    height: 32px;\n",
              "    padding: 0;\n",
              "    width: 32px;\n",
              "  }\n",
              "\n",
              "  .colab-df-quickchart:hover {\n",
              "    background-color: var(--hover-bg-color);\n",
              "    box-shadow: 0 1px 2px rgba(60, 64, 67, 0.3), 0 1px 3px 1px rgba(60, 64, 67, 0.15);\n",
              "    fill: var(--button-hover-fill-color);\n",
              "  }\n",
              "\n",
              "  .colab-df-quickchart-complete:disabled,\n",
              "  .colab-df-quickchart-complete:disabled:hover {\n",
              "    background-color: var(--disabled-bg-color);\n",
              "    fill: var(--disabled-fill-color);\n",
              "    box-shadow: none;\n",
              "  }\n",
              "\n",
              "  .colab-df-spinner {\n",
              "    border: 2px solid var(--fill-color);\n",
              "    border-color: transparent;\n",
              "    border-bottom-color: var(--fill-color);\n",
              "    animation:\n",
              "      spin 1s steps(1) infinite;\n",
              "  }\n",
              "\n",
              "  @keyframes spin {\n",
              "    0% {\n",
              "      border-color: transparent;\n",
              "      border-bottom-color: var(--fill-color);\n",
              "      border-left-color: var(--fill-color);\n",
              "    }\n",
              "    20% {\n",
              "      border-color: transparent;\n",
              "      border-left-color: var(--fill-color);\n",
              "      border-top-color: var(--fill-color);\n",
              "    }\n",
              "    30% {\n",
              "      border-color: transparent;\n",
              "      border-left-color: var(--fill-color);\n",
              "      border-top-color: var(--fill-color);\n",
              "      border-right-color: var(--fill-color);\n",
              "    }\n",
              "    40% {\n",
              "      border-color: transparent;\n",
              "      border-right-color: var(--fill-color);\n",
              "      border-top-color: var(--fill-color);\n",
              "    }\n",
              "    60% {\n",
              "      border-color: transparent;\n",
              "      border-right-color: var(--fill-color);\n",
              "    }\n",
              "    80% {\n",
              "      border-color: transparent;\n",
              "      border-right-color: var(--fill-color);\n",
              "      border-bottom-color: var(--fill-color);\n",
              "    }\n",
              "    90% {\n",
              "      border-color: transparent;\n",
              "      border-bottom-color: var(--fill-color);\n",
              "    }\n",
              "  }\n",
              "</style>\n",
              "\n",
              "  <script>\n",
              "    async function quickchart(key) {\n",
              "      const quickchartButtonEl =\n",
              "        document.querySelector('#' + key + ' button');\n",
              "      quickchartButtonEl.disabled = true;  // To prevent multiple clicks.\n",
              "      quickchartButtonEl.classList.add('colab-df-spinner');\n",
              "      try {\n",
              "        const charts = await google.colab.kernel.invokeFunction(\n",
              "            'suggestCharts', [key], {});\n",
              "      } catch (error) {\n",
              "        console.error('Error during call to suggestCharts:', error);\n",
              "      }\n",
              "      quickchartButtonEl.classList.remove('colab-df-spinner');\n",
              "      quickchartButtonEl.classList.add('colab-df-quickchart-complete');\n",
              "    }\n",
              "    (() => {\n",
              "      let quickchartButtonEl =\n",
              "        document.querySelector('#df-e17f4d58-7eca-45b1-aaaf-658890a459d6 button');\n",
              "      quickchartButtonEl.style.display =\n",
              "        google.colab.kernel.accessAllowed ? 'block' : 'none';\n",
              "    })();\n",
              "  </script>\n",
              "</div>\n",
              "    </div>\n",
              "  </div>\n"
            ],
            "application/vnd.google.colaboratory.intrinsic+json": {
              "type": "dataframe",
              "variable_name": "data"
            }
          },
          "metadata": {},
          "execution_count": 60
        }
      ]
    },
    {
      "cell_type": "code",
      "source": [
        "#Mapping Customer ID and Item Purcahsed to unique indices\n",
        "data['customer_ids'] = data['Customer ID'].astype('category').cat.codes\n",
        "data['item_ids'] = data['Item Purchased'].astype('category').cat.codes"
      ],
      "metadata": {
        "id": "bhQE_U4g3T93"
      },
      "execution_count": null,
      "outputs": []
    },
    {
      "cell_type": "code",
      "source": [
        "pivot = pd.pivot_table(data, values= 'Quantity', index= 'customer_ids', columns= 'item_ids', aggfunc= 'sum', fill_value= 0)"
      ],
      "metadata": {
        "id": "2iFLuLD85lWp"
      },
      "execution_count": null,
      "outputs": []
    },
    {
      "cell_type": "code",
      "source": [
        "# Converting to sparse matrix format for efficient computation, as sparse matrix holds only none zero values and as we can see above not all customer purchased all products hence we have a lot of zeros.\n",
        "coo = sp.coo_matrix(pivot.values) # Coordinate format or COO format (coo_matrix()) is a scipy function that handles sparse matrix.\n",
        "csr = coo.tocsr() # we convert to csr format because ALS model only works with csr data\n",
        "csr\n",
        "print(type(csr))"
      ],
      "metadata": {
        "colab": {
          "base_uri": "https://localhost:8080/"
        },
        "id": "iOxqqs4j_BNY",
        "outputId": "ba140cac-5b2e-467c-9be8-aaf6f05b2240"
      },
      "execution_count": null,
      "outputs": [
        {
          "output_type": "stream",
          "name": "stdout",
          "text": [
            "<class 'scipy.sparse._csr.csr_matrix'>\n"
          ]
        }
      ]
    },
    {
      "cell_type": "code",
      "source": [
        "customer_id_map = data[['Customer ID', 'customer_ids']].set_index('customer_ids', inplace=True)\n",
        "item_id_map = data[['Item Purchased', 'item_ids']].set_index('item_ids', inplace=True)"
      ],
      "metadata": {
        "id": "HYG0PezD7XwA"
      },
      "execution_count": null,
      "outputs": []
    },
    {
      "cell_type": "code",
      "source": [
        "data.head(20)"
      ],
      "metadata": {
        "colab": {
          "base_uri": "https://localhost:8080/",
          "height": 676
        },
        "id": "8tQRbXTt5J9m",
        "outputId": "4c26237e-1d06-402a-a71e-f2b391d1639a"
      },
      "execution_count": null,
      "outputs": [
        {
          "output_type": "execute_result",
          "data": {
            "text/plain": [
              "    Customer ID  Quantity Item Purchased  customer_ids  item_ids\n",
              "0         44605         0         Blouse         44602         2\n",
              "1         44605         2        Sweater         44602        23\n",
              "2         44605         0          Jeans         44602        11\n",
              "3         44605         3        Sandals         44602        14\n",
              "4         44605         3         Blouse         44602         2\n",
              "5         13738         2       Sneakers         13736        20\n",
              "6         13738         1          Shirt         13736        16\n",
              "7         13738         4         Shorts         13736        18\n",
              "8         13738         2           Coat         13736         4\n",
              "9         13738         4        Handbag         13736         7\n",
              "10        33969         3          Shoes         33966        17\n",
              "11        33969         0         Shorts         33966        18\n",
              "12        33969         2           Coat         33966         4\n",
              "13        33969         4          Dress         33966         5\n",
              "14        33969         1           Coat         33966         4\n",
              "15        33969         2          Skirt         33966        19\n",
              "16        33969         2     Sunglasses         33966        22\n",
              "17        42650         5          Dress         42647         5\n",
              "18        42650         1        Sweater         42647        23\n",
              "19        42650         2          Pants         42647        13"
            ],
            "text/html": [
              "\n",
              "  <div id=\"df-5bb10792-0924-475f-9af7-abbdd97ae6f5\" class=\"colab-df-container\">\n",
              "    <div>\n",
              "<style scoped>\n",
              "    .dataframe tbody tr th:only-of-type {\n",
              "        vertical-align: middle;\n",
              "    }\n",
              "\n",
              "    .dataframe tbody tr th {\n",
              "        vertical-align: top;\n",
              "    }\n",
              "\n",
              "    .dataframe thead th {\n",
              "        text-align: right;\n",
              "    }\n",
              "</style>\n",
              "<table border=\"1\" class=\"dataframe\">\n",
              "  <thead>\n",
              "    <tr style=\"text-align: right;\">\n",
              "      <th></th>\n",
              "      <th>Customer ID</th>\n",
              "      <th>Quantity</th>\n",
              "      <th>Item Purchased</th>\n",
              "      <th>customer_ids</th>\n",
              "      <th>item_ids</th>\n",
              "    </tr>\n",
              "  </thead>\n",
              "  <tbody>\n",
              "    <tr>\n",
              "      <th>0</th>\n",
              "      <td>44605</td>\n",
              "      <td>0</td>\n",
              "      <td>Blouse</td>\n",
              "      <td>44602</td>\n",
              "      <td>2</td>\n",
              "    </tr>\n",
              "    <tr>\n",
              "      <th>1</th>\n",
              "      <td>44605</td>\n",
              "      <td>2</td>\n",
              "      <td>Sweater</td>\n",
              "      <td>44602</td>\n",
              "      <td>23</td>\n",
              "    </tr>\n",
              "    <tr>\n",
              "      <th>2</th>\n",
              "      <td>44605</td>\n",
              "      <td>0</td>\n",
              "      <td>Jeans</td>\n",
              "      <td>44602</td>\n",
              "      <td>11</td>\n",
              "    </tr>\n",
              "    <tr>\n",
              "      <th>3</th>\n",
              "      <td>44605</td>\n",
              "      <td>3</td>\n",
              "      <td>Sandals</td>\n",
              "      <td>44602</td>\n",
              "      <td>14</td>\n",
              "    </tr>\n",
              "    <tr>\n",
              "      <th>4</th>\n",
              "      <td>44605</td>\n",
              "      <td>3</td>\n",
              "      <td>Blouse</td>\n",
              "      <td>44602</td>\n",
              "      <td>2</td>\n",
              "    </tr>\n",
              "    <tr>\n",
              "      <th>5</th>\n",
              "      <td>13738</td>\n",
              "      <td>2</td>\n",
              "      <td>Sneakers</td>\n",
              "      <td>13736</td>\n",
              "      <td>20</td>\n",
              "    </tr>\n",
              "    <tr>\n",
              "      <th>6</th>\n",
              "      <td>13738</td>\n",
              "      <td>1</td>\n",
              "      <td>Shirt</td>\n",
              "      <td>13736</td>\n",
              "      <td>16</td>\n",
              "    </tr>\n",
              "    <tr>\n",
              "      <th>7</th>\n",
              "      <td>13738</td>\n",
              "      <td>4</td>\n",
              "      <td>Shorts</td>\n",
              "      <td>13736</td>\n",
              "      <td>18</td>\n",
              "    </tr>\n",
              "    <tr>\n",
              "      <th>8</th>\n",
              "      <td>13738</td>\n",
              "      <td>2</td>\n",
              "      <td>Coat</td>\n",
              "      <td>13736</td>\n",
              "      <td>4</td>\n",
              "    </tr>\n",
              "    <tr>\n",
              "      <th>9</th>\n",
              "      <td>13738</td>\n",
              "      <td>4</td>\n",
              "      <td>Handbag</td>\n",
              "      <td>13736</td>\n",
              "      <td>7</td>\n",
              "    </tr>\n",
              "    <tr>\n",
              "      <th>10</th>\n",
              "      <td>33969</td>\n",
              "      <td>3</td>\n",
              "      <td>Shoes</td>\n",
              "      <td>33966</td>\n",
              "      <td>17</td>\n",
              "    </tr>\n",
              "    <tr>\n",
              "      <th>11</th>\n",
              "      <td>33969</td>\n",
              "      <td>0</td>\n",
              "      <td>Shorts</td>\n",
              "      <td>33966</td>\n",
              "      <td>18</td>\n",
              "    </tr>\n",
              "    <tr>\n",
              "      <th>12</th>\n",
              "      <td>33969</td>\n",
              "      <td>2</td>\n",
              "      <td>Coat</td>\n",
              "      <td>33966</td>\n",
              "      <td>4</td>\n",
              "    </tr>\n",
              "    <tr>\n",
              "      <th>13</th>\n",
              "      <td>33969</td>\n",
              "      <td>4</td>\n",
              "      <td>Dress</td>\n",
              "      <td>33966</td>\n",
              "      <td>5</td>\n",
              "    </tr>\n",
              "    <tr>\n",
              "      <th>14</th>\n",
              "      <td>33969</td>\n",
              "      <td>1</td>\n",
              "      <td>Coat</td>\n",
              "      <td>33966</td>\n",
              "      <td>4</td>\n",
              "    </tr>\n",
              "    <tr>\n",
              "      <th>15</th>\n",
              "      <td>33969</td>\n",
              "      <td>2</td>\n",
              "      <td>Skirt</td>\n",
              "      <td>33966</td>\n",
              "      <td>19</td>\n",
              "    </tr>\n",
              "    <tr>\n",
              "      <th>16</th>\n",
              "      <td>33969</td>\n",
              "      <td>2</td>\n",
              "      <td>Sunglasses</td>\n",
              "      <td>33966</td>\n",
              "      <td>22</td>\n",
              "    </tr>\n",
              "    <tr>\n",
              "      <th>17</th>\n",
              "      <td>42650</td>\n",
              "      <td>5</td>\n",
              "      <td>Dress</td>\n",
              "      <td>42647</td>\n",
              "      <td>5</td>\n",
              "    </tr>\n",
              "    <tr>\n",
              "      <th>18</th>\n",
              "      <td>42650</td>\n",
              "      <td>1</td>\n",
              "      <td>Sweater</td>\n",
              "      <td>42647</td>\n",
              "      <td>23</td>\n",
              "    </tr>\n",
              "    <tr>\n",
              "      <th>19</th>\n",
              "      <td>42650</td>\n",
              "      <td>2</td>\n",
              "      <td>Pants</td>\n",
              "      <td>42647</td>\n",
              "      <td>13</td>\n",
              "    </tr>\n",
              "  </tbody>\n",
              "</table>\n",
              "</div>\n",
              "    <div class=\"colab-df-buttons\">\n",
              "\n",
              "  <div class=\"colab-df-container\">\n",
              "    <button class=\"colab-df-convert\" onclick=\"convertToInteractive('df-5bb10792-0924-475f-9af7-abbdd97ae6f5')\"\n",
              "            title=\"Convert this dataframe to an interactive table.\"\n",
              "            style=\"display:none;\">\n",
              "\n",
              "  <svg xmlns=\"http://www.w3.org/2000/svg\" height=\"24px\" viewBox=\"0 -960 960 960\">\n",
              "    <path d=\"M120-120v-720h720v720H120Zm60-500h600v-160H180v160Zm220 220h160v-160H400v160Zm0 220h160v-160H400v160ZM180-400h160v-160H180v160Zm440 0h160v-160H620v160ZM180-180h160v-160H180v160Zm440 0h160v-160H620v160Z\"/>\n",
              "  </svg>\n",
              "    </button>\n",
              "\n",
              "  <style>\n",
              "    .colab-df-container {\n",
              "      display:flex;\n",
              "      gap: 12px;\n",
              "    }\n",
              "\n",
              "    .colab-df-convert {\n",
              "      background-color: #E8F0FE;\n",
              "      border: none;\n",
              "      border-radius: 50%;\n",
              "      cursor: pointer;\n",
              "      display: none;\n",
              "      fill: #1967D2;\n",
              "      height: 32px;\n",
              "      padding: 0 0 0 0;\n",
              "      width: 32px;\n",
              "    }\n",
              "\n",
              "    .colab-df-convert:hover {\n",
              "      background-color: #E2EBFA;\n",
              "      box-shadow: 0px 1px 2px rgba(60, 64, 67, 0.3), 0px 1px 3px 1px rgba(60, 64, 67, 0.15);\n",
              "      fill: #174EA6;\n",
              "    }\n",
              "\n",
              "    .colab-df-buttons div {\n",
              "      margin-bottom: 4px;\n",
              "    }\n",
              "\n",
              "    [theme=dark] .colab-df-convert {\n",
              "      background-color: #3B4455;\n",
              "      fill: #D2E3FC;\n",
              "    }\n",
              "\n",
              "    [theme=dark] .colab-df-convert:hover {\n",
              "      background-color: #434B5C;\n",
              "      box-shadow: 0px 1px 3px 1px rgba(0, 0, 0, 0.15);\n",
              "      filter: drop-shadow(0px 1px 2px rgba(0, 0, 0, 0.3));\n",
              "      fill: #FFFFFF;\n",
              "    }\n",
              "  </style>\n",
              "\n",
              "    <script>\n",
              "      const buttonEl =\n",
              "        document.querySelector('#df-5bb10792-0924-475f-9af7-abbdd97ae6f5 button.colab-df-convert');\n",
              "      buttonEl.style.display =\n",
              "        google.colab.kernel.accessAllowed ? 'block' : 'none';\n",
              "\n",
              "      async function convertToInteractive(key) {\n",
              "        const element = document.querySelector('#df-5bb10792-0924-475f-9af7-abbdd97ae6f5');\n",
              "        const dataTable =\n",
              "          await google.colab.kernel.invokeFunction('convertToInteractive',\n",
              "                                                    [key], {});\n",
              "        if (!dataTable) return;\n",
              "\n",
              "        const docLinkHtml = 'Like what you see? Visit the ' +\n",
              "          '<a target=\"_blank\" href=https://colab.research.google.com/notebooks/data_table.ipynb>data table notebook</a>'\n",
              "          + ' to learn more about interactive tables.';\n",
              "        element.innerHTML = '';\n",
              "        dataTable['output_type'] = 'display_data';\n",
              "        await google.colab.output.renderOutput(dataTable, element);\n",
              "        const docLink = document.createElement('div');\n",
              "        docLink.innerHTML = docLinkHtml;\n",
              "        element.appendChild(docLink);\n",
              "      }\n",
              "    </script>\n",
              "  </div>\n",
              "\n",
              "\n",
              "<div id=\"df-f0f4643c-1d80-456d-932a-4523f4ce5495\">\n",
              "  <button class=\"colab-df-quickchart\" onclick=\"quickchart('df-f0f4643c-1d80-456d-932a-4523f4ce5495')\"\n",
              "            title=\"Suggest charts\"\n",
              "            style=\"display:none;\">\n",
              "\n",
              "<svg xmlns=\"http://www.w3.org/2000/svg\" height=\"24px\"viewBox=\"0 0 24 24\"\n",
              "     width=\"24px\">\n",
              "    <g>\n",
              "        <path d=\"M19 3H5c-1.1 0-2 .9-2 2v14c0 1.1.9 2 2 2h14c1.1 0 2-.9 2-2V5c0-1.1-.9-2-2-2zM9 17H7v-7h2v7zm4 0h-2V7h2v10zm4 0h-2v-4h2v4z\"/>\n",
              "    </g>\n",
              "</svg>\n",
              "  </button>\n",
              "\n",
              "<style>\n",
              "  .colab-df-quickchart {\n",
              "      --bg-color: #E8F0FE;\n",
              "      --fill-color: #1967D2;\n",
              "      --hover-bg-color: #E2EBFA;\n",
              "      --hover-fill-color: #174EA6;\n",
              "      --disabled-fill-color: #AAA;\n",
              "      --disabled-bg-color: #DDD;\n",
              "  }\n",
              "\n",
              "  [theme=dark] .colab-df-quickchart {\n",
              "      --bg-color: #3B4455;\n",
              "      --fill-color: #D2E3FC;\n",
              "      --hover-bg-color: #434B5C;\n",
              "      --hover-fill-color: #FFFFFF;\n",
              "      --disabled-bg-color: #3B4455;\n",
              "      --disabled-fill-color: #666;\n",
              "  }\n",
              "\n",
              "  .colab-df-quickchart {\n",
              "    background-color: var(--bg-color);\n",
              "    border: none;\n",
              "    border-radius: 50%;\n",
              "    cursor: pointer;\n",
              "    display: none;\n",
              "    fill: var(--fill-color);\n",
              "    height: 32px;\n",
              "    padding: 0;\n",
              "    width: 32px;\n",
              "  }\n",
              "\n",
              "  .colab-df-quickchart:hover {\n",
              "    background-color: var(--hover-bg-color);\n",
              "    box-shadow: 0 1px 2px rgba(60, 64, 67, 0.3), 0 1px 3px 1px rgba(60, 64, 67, 0.15);\n",
              "    fill: var(--button-hover-fill-color);\n",
              "  }\n",
              "\n",
              "  .colab-df-quickchart-complete:disabled,\n",
              "  .colab-df-quickchart-complete:disabled:hover {\n",
              "    background-color: var(--disabled-bg-color);\n",
              "    fill: var(--disabled-fill-color);\n",
              "    box-shadow: none;\n",
              "  }\n",
              "\n",
              "  .colab-df-spinner {\n",
              "    border: 2px solid var(--fill-color);\n",
              "    border-color: transparent;\n",
              "    border-bottom-color: var(--fill-color);\n",
              "    animation:\n",
              "      spin 1s steps(1) infinite;\n",
              "  }\n",
              "\n",
              "  @keyframes spin {\n",
              "    0% {\n",
              "      border-color: transparent;\n",
              "      border-bottom-color: var(--fill-color);\n",
              "      border-left-color: var(--fill-color);\n",
              "    }\n",
              "    20% {\n",
              "      border-color: transparent;\n",
              "      border-left-color: var(--fill-color);\n",
              "      border-top-color: var(--fill-color);\n",
              "    }\n",
              "    30% {\n",
              "      border-color: transparent;\n",
              "      border-left-color: var(--fill-color);\n",
              "      border-top-color: var(--fill-color);\n",
              "      border-right-color: var(--fill-color);\n",
              "    }\n",
              "    40% {\n",
              "      border-color: transparent;\n",
              "      border-right-color: var(--fill-color);\n",
              "      border-top-color: var(--fill-color);\n",
              "    }\n",
              "    60% {\n",
              "      border-color: transparent;\n",
              "      border-right-color: var(--fill-color);\n",
              "    }\n",
              "    80% {\n",
              "      border-color: transparent;\n",
              "      border-right-color: var(--fill-color);\n",
              "      border-bottom-color: var(--fill-color);\n",
              "    }\n",
              "    90% {\n",
              "      border-color: transparent;\n",
              "      border-bottom-color: var(--fill-color);\n",
              "    }\n",
              "  }\n",
              "</style>\n",
              "\n",
              "  <script>\n",
              "    async function quickchart(key) {\n",
              "      const quickchartButtonEl =\n",
              "        document.querySelector('#' + key + ' button');\n",
              "      quickchartButtonEl.disabled = true;  // To prevent multiple clicks.\n",
              "      quickchartButtonEl.classList.add('colab-df-spinner');\n",
              "      try {\n",
              "        const charts = await google.colab.kernel.invokeFunction(\n",
              "            'suggestCharts', [key], {});\n",
              "      } catch (error) {\n",
              "        console.error('Error during call to suggestCharts:', error);\n",
              "      }\n",
              "      quickchartButtonEl.classList.remove('colab-df-spinner');\n",
              "      quickchartButtonEl.classList.add('colab-df-quickchart-complete');\n",
              "    }\n",
              "    (() => {\n",
              "      let quickchartButtonEl =\n",
              "        document.querySelector('#df-f0f4643c-1d80-456d-932a-4523f4ce5495 button');\n",
              "      quickchartButtonEl.style.display =\n",
              "        google.colab.kernel.accessAllowed ? 'block' : 'none';\n",
              "    })();\n",
              "  </script>\n",
              "</div>\n",
              "    </div>\n",
              "  </div>\n"
            ],
            "application/vnd.google.colaboratory.intrinsic+json": {
              "type": "dataframe",
              "variable_name": "data"
            }
          },
          "metadata": {},
          "execution_count": 65
        }
      ]
    },
    {
      "cell_type": "code",
      "source": [
        "# # Creating the user and item interaction matrix\n",
        "# user_item_matrix = data.pivot_table(index='customer_ids', columns='Item Purchased', values='Quantity', aggfunc='sum', fill_value=0) # The rows of the table(matrix) created will be filled with 'Customer ID' from our dataframe, while the columns are the diff. products and the values are the quantity sum (aggfunc='sum') of each product purchased by a customer while products that wasn't bought by a customer will be filled with value 0 (fill_value=0).\n",
        "# user_item_matrix"
      ],
      "metadata": {
        "id": "D8gWxErCV7M4",
        "collapsed": true
      },
      "execution_count": null,
      "outputs": []
    },
    {
      "cell_type": "markdown",
      "source": [
        "**Model creation and Training**"
      ],
      "metadata": {
        "id": "GDaD7ggeHxZa"
      }
    },
    {
      "cell_type": "code",
      "source": [
        "# Apply matrix factorization (ALS)\n",
        "'''\n",
        "\n",
        "'''\n",
        "als_model = AlternatingLeastSquares(factors=10, regularization=0.1, iterations=20) # Initialise the ALS model\n",
        "als_model.fit(csr.T)  # Train the ALS model with the data."
      ],
      "metadata": {
        "id": "iD7lcW1hV_N5",
        "colab": {
          "base_uri": "https://localhost:8080/",
          "height": 105,
          "referenced_widgets": [
            "5d3c5673246b4041b460198e85b3c562",
            "0c992fcd590e4c9094928637658488df",
            "ff7d66e391ab44f2aa673a27d4b9e84d",
            "5b53b6b6e913415b9893797625892790",
            "62c4911a75ea4c7b8d4fdcc9d21003c4",
            "4165f15910a94346a5fd4aa4bf941735",
            "7787b07da0d648159d3bc55cf1fc6fb3",
            "e84a8307766e466abd6e9fe9b972210d",
            "2d2478cd89234daf896dd9019ad8c24a",
            "0bfac1534b0244a4ba89818987dc5a90",
            "9c693bab878b470aa177531a066a4a3a"
          ]
        },
        "outputId": "f4d8c0c2-d568-4a89-8cfa-249d38e6a51e"
      },
      "execution_count": null,
      "outputs": [
        {
          "output_type": "stream",
          "name": "stderr",
          "text": [
            "/usr/local/lib/python3.10/dist-packages/implicit/utils.py:164: ParameterWarning: Method expects CSR input, and was passed csc_matrix instead. Converting to CSR took 0.019958019256591797 seconds\n",
            "  warnings.warn(\n"
          ]
        },
        {
          "output_type": "display_data",
          "data": {
            "text/plain": [
              "  0%|          | 0/20 [00:00<?, ?it/s]"
            ],
            "application/vnd.jupyter.widget-view+json": {
              "version_major": 2,
              "version_minor": 0,
              "model_id": "5d3c5673246b4041b460198e85b3c562"
            }
          },
          "metadata": {}
        }
      ]
    },
    {
      "cell_type": "markdown",
      "source": [
        "**TESTING THE MODEL**"
      ],
      "metadata": {
        "id": "mIKqKz1_VioJ"
      }
    },
    {
      "cell_type": "code",
      "source": [
        "# test_data['Customer ID'].count()"
      ],
      "metadata": {
        "id": "sOjncBLhHUIx"
      },
      "execution_count": null,
      "outputs": []
    },
    {
      "cell_type": "code",
      "source": [
        "# # Print the internal components of the CSR matrix\n",
        "# print(\"\\nCSR Matrix internal components:\")\n",
        "# print(\"data:\", user_item_matrix.data)\n",
        "# print(\"indices:\", user_item_matrix.indices)\n",
        "# print(\"indptr:\", user_item_matrix.indptr)"
      ],
      "metadata": {
        "id": "yBhF16u3GHCp"
      },
      "execution_count": null,
      "outputs": []
    },
    {
      "cell_type": "code",
      "source": [
        "# The recommedation function\n",
        "def recommend_for_customers(customer_ids, als_model, csr_matrix, number_of_recommedations = 5):\n",
        "\n",
        "  internal_customer_id = np.where(customer_id_map == customer_ids)[0][0]\n",
        "  user_interactions = csr_matrix[internal_customer_id]\n",
        "\n",
        "  # Reshape user_interactions to ensure it's a 2D array with one row\n",
        "  user_interactions = user_interactions.reshape(1, -1)\n",
        "\n",
        "  recommendations = als_model.recommend(internal_customer_id, user_interactions, N=number_of_recommedations)\n",
        "  recommended_item_ids = [item_id_map[i] for i, _ in recommendations]\n",
        "\n",
        "  return recommended_item_ids\n",
        "\n",
        "# Generate and print recommendations for each customer\n",
        "unique_customer_ids = data['Customer ID'].unique()\n",
        "for customer_ids in unique_customer_ids:\n",
        "  recommendations = recommend_for_customers(customer_ids, als_model, csr, number_of_recommedations=5)\n",
        "  print(f\"Recommendations for customer {customer_ids}: {recommendations}\")"
      ],
      "metadata": {
        "colab": {
          "base_uri": "https://localhost:8080/",
          "height": 401
        },
        "id": "amI-OuI6EQmu",
        "outputId": "9cb4e4f0-72fc-4be3-9c32-6198b9cb5192"
      },
      "execution_count": null,
      "outputs": [
        {
          "output_type": "stream",
          "name": "stderr",
          "text": [
            "<ipython-input-70-2c318896e279>:14: DeprecationWarning: Calling nonzero on 0d arrays is deprecated, as it behaves surprisingly. Use `atleast_1d(cond).nonzero()` if the old behavior was intended. If the context of this warning is of the form `arr[nonzero(cond)]`, just use `arr[cond]`.\n",
            "  internal_customer_id = np.where(customer_id_map == customer_ids)[0][0]\n"
          ]
        },
        {
          "output_type": "error",
          "ename": "IndexError",
          "evalue": "index 0 is out of bounds for axis 0 with size 0",
          "traceback": [
            "\u001b[0;31m---------------------------------------------------------------------------\u001b[0m",
            "\u001b[0;31mIndexError\u001b[0m                                Traceback (most recent call last)",
            "\u001b[0;32m<ipython-input-70-2c318896e279>\u001b[0m in \u001b[0;36m<cell line: 27>\u001b[0;34m()\u001b[0m\n\u001b[1;32m     26\u001b[0m \u001b[0munique_customer_ids\u001b[0m \u001b[0;34m=\u001b[0m \u001b[0mdata\u001b[0m\u001b[0;34m[\u001b[0m\u001b[0;34m'Customer ID'\u001b[0m\u001b[0;34m]\u001b[0m\u001b[0;34m.\u001b[0m\u001b[0munique\u001b[0m\u001b[0;34m(\u001b[0m\u001b[0;34m)\u001b[0m\u001b[0;34m\u001b[0m\u001b[0;34m\u001b[0m\u001b[0m\n\u001b[1;32m     27\u001b[0m \u001b[0;32mfor\u001b[0m \u001b[0mcustomer_ids\u001b[0m \u001b[0;32min\u001b[0m \u001b[0munique_customer_ids\u001b[0m\u001b[0;34m:\u001b[0m\u001b[0;34m\u001b[0m\u001b[0;34m\u001b[0m\u001b[0m\n\u001b[0;32m---> 28\u001b[0;31m   \u001b[0mrecommendations\u001b[0m \u001b[0;34m=\u001b[0m \u001b[0mrecommend_for_customers\u001b[0m\u001b[0;34m(\u001b[0m\u001b[0mcustomer_ids\u001b[0m\u001b[0;34m,\u001b[0m \u001b[0mals_model\u001b[0m\u001b[0;34m,\u001b[0m \u001b[0mcsr\u001b[0m\u001b[0;34m,\u001b[0m \u001b[0mnumber_of_recommedations\u001b[0m\u001b[0;34m=\u001b[0m\u001b[0;36m5\u001b[0m\u001b[0;34m)\u001b[0m\u001b[0;34m\u001b[0m\u001b[0;34m\u001b[0m\u001b[0m\n\u001b[0m\u001b[1;32m     29\u001b[0m   \u001b[0mprint\u001b[0m\u001b[0;34m(\u001b[0m\u001b[0;34mf\"Recommendations for customer {customer_ids}: {recommendations}\"\u001b[0m\u001b[0;34m)\u001b[0m\u001b[0;34m\u001b[0m\u001b[0;34m\u001b[0m\u001b[0m\n",
            "\u001b[0;32m<ipython-input-70-2c318896e279>\u001b[0m in \u001b[0;36mrecommend_for_customers\u001b[0;34m(customer_ids, als_model, csr_matrix, number_of_recommedations)\u001b[0m\n\u001b[1;32m     12\u001b[0m \u001b[0;34m\u001b[0m\u001b[0m\n\u001b[1;32m     13\u001b[0m   \"\"\"\n\u001b[0;32m---> 14\u001b[0;31m   \u001b[0minternal_customer_id\u001b[0m \u001b[0;34m=\u001b[0m \u001b[0mnp\u001b[0m\u001b[0;34m.\u001b[0m\u001b[0mwhere\u001b[0m\u001b[0;34m(\u001b[0m\u001b[0mcustomer_id_map\u001b[0m \u001b[0;34m==\u001b[0m \u001b[0mcustomer_ids\u001b[0m\u001b[0;34m)\u001b[0m\u001b[0;34m[\u001b[0m\u001b[0;36m0\u001b[0m\u001b[0;34m]\u001b[0m\u001b[0;34m[\u001b[0m\u001b[0;36m0\u001b[0m\u001b[0;34m]\u001b[0m\u001b[0;34m\u001b[0m\u001b[0;34m\u001b[0m\u001b[0m\n\u001b[0m\u001b[1;32m     15\u001b[0m   \u001b[0muser_interactions\u001b[0m \u001b[0;34m=\u001b[0m \u001b[0mcsr_matrix\u001b[0m\u001b[0;34m[\u001b[0m\u001b[0minternal_customer_id\u001b[0m\u001b[0;34m]\u001b[0m\u001b[0;34m\u001b[0m\u001b[0;34m\u001b[0m\u001b[0m\n\u001b[1;32m     16\u001b[0m \u001b[0;34m\u001b[0m\u001b[0m\n",
            "\u001b[0;31mIndexError\u001b[0m: index 0 is out of bounds for axis 0 with size 0"
          ]
        }
      ]
    },
    {
      "cell_type": "code",
      "source": [
        "# user_recommendations = {}\n",
        "\n",
        "# for customer_id in data['Customer ID'].unique():\n",
        "#     # Generate recommendations for the current customer\n",
        "#     recommended_items = als_model.recommend(customer_id, user_item_matrix, N=5)\n",
        "\n",
        "#     # Extract recommended products from the recommendations\n",
        "#     recommended_products = [item_id for item_id, score in recommended_items]\n",
        "\n",
        "#     # Store the recommendations for the current customer\n",
        "#     user_recommendations[customer_id] = recommended_products"
      ],
      "metadata": {
        "id": "Beq1lJ5nin3L"
      },
      "execution_count": null,
      "outputs": []
    },
    {
      "cell_type": "markdown",
      "source": [
        "**EVALUATING THE MODEL**"
      ],
      "metadata": {
        "id": "aIolVeIBR8YP"
      }
    },
    {
      "cell_type": "code",
      "source": [],
      "metadata": {
        "id": "hLCdsqkfTc-b"
      },
      "execution_count": null,
      "outputs": []
    }
  ]
}